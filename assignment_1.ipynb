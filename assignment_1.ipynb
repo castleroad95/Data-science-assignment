{
 "cells": [
  {
   "cell_type": "markdown",
   "metadata": {},
   "source": [
    "# Task 1: Age"
   ]
  },
  {
   "cell_type": "code",
   "execution_count": 141,
   "metadata": {},
   "outputs": [
    {
     "data": {
      "text/html": [
       "<div>\n",
       "<style scoped>\n",
       "    .dataframe tbody tr th:only-of-type {\n",
       "        vertical-align: middle;\n",
       "    }\n",
       "\n",
       "    .dataframe tbody tr th {\n",
       "        vertical-align: top;\n",
       "    }\n",
       "\n",
       "    .dataframe thead th {\n",
       "        text-align: right;\n",
       "    }\n",
       "</style>\n",
       "<table border=\"1\" class=\"dataframe\">\n",
       "  <thead>\n",
       "    <tr style=\"text-align: right;\">\n",
       "      <th></th>\n",
       "      <th>date</th>\n",
       "      <th>time</th>\n",
       "      <th>age</th>\n",
       "      <th>confirmed</th>\n",
       "      <th>deceased</th>\n",
       "    </tr>\n",
       "  </thead>\n",
       "  <tbody>\n",
       "    <tr>\n",
       "      <th>0</th>\n",
       "      <td>2020-03-02</td>\n",
       "      <td>0</td>\n",
       "      <td>0s</td>\n",
       "      <td>32</td>\n",
       "      <td>0</td>\n",
       "    </tr>\n",
       "    <tr>\n",
       "      <th>1</th>\n",
       "      <td>2020-03-02</td>\n",
       "      <td>0</td>\n",
       "      <td>10s</td>\n",
       "      <td>169</td>\n",
       "      <td>0</td>\n",
       "    </tr>\n",
       "    <tr>\n",
       "      <th>2</th>\n",
       "      <td>2020-03-02</td>\n",
       "      <td>0</td>\n",
       "      <td>20s</td>\n",
       "      <td>1235</td>\n",
       "      <td>0</td>\n",
       "    </tr>\n",
       "    <tr>\n",
       "      <th>3</th>\n",
       "      <td>2020-03-02</td>\n",
       "      <td>0</td>\n",
       "      <td>30s</td>\n",
       "      <td>506</td>\n",
       "      <td>1</td>\n",
       "    </tr>\n",
       "    <tr>\n",
       "      <th>4</th>\n",
       "      <td>2020-03-02</td>\n",
       "      <td>0</td>\n",
       "      <td>40s</td>\n",
       "      <td>633</td>\n",
       "      <td>1</td>\n",
       "    </tr>\n",
       "  </tbody>\n",
       "</table>\n",
       "</div>"
      ],
      "text/plain": [
       "         date  time  age  confirmed  deceased\n",
       "0  2020-03-02     0   0s         32         0\n",
       "1  2020-03-02     0  10s        169         0\n",
       "2  2020-03-02     0  20s       1235         0\n",
       "3  2020-03-02     0  30s        506         1\n",
       "4  2020-03-02     0  40s        633         1"
      ]
     },
     "execution_count": 141,
     "metadata": {},
     "output_type": "execute_result"
    }
   ],
   "source": [
    "import pandas as pd\n",
    "import matplotlib.pyplot as plt\n",
    "\n",
    "timeage_csv=pd.read_csv('C:/Users/castl/Desktop/데이터 사이언스/TimeAge.csv')\n",
    "timeage_csv.head(5)"
   ]
  },
  {
   "cell_type": "code",
   "execution_count": 45,
   "metadata": {},
   "outputs": [
    {
     "name": "stdout",
     "output_type": "stream",
     "text": [
      "<class 'pandas.core.frame.DataFrame'>\n",
      "RangeIndex: 1089 entries, 0 to 1088\n",
      "Data columns (total 5 columns):\n",
      " #   Column     Non-Null Count  Dtype \n",
      "---  ------     --------------  ----- \n",
      " 0   date       1089 non-null   object\n",
      " 1   time       1089 non-null   int64 \n",
      " 2   age        1089 non-null   object\n",
      " 3   confirmed  1089 non-null   int64 \n",
      " 4   deceased   1089 non-null   int64 \n",
      "dtypes: int64(3), object(2)\n",
      "memory usage: 42.7+ KB\n"
     ]
    }
   ],
   "source": [
    "timeage_csv.info()"
   ]
  },
  {
   "cell_type": "markdown",
   "metadata": {},
   "source": [
    "- 전체 1089개가 non_null 갯수랑 같으므로 null data 없음\n",
    "- data columns 5개\n",
    "- Q1: Are there any missing values in the data (Null/NaN)? (1-yes, 0-no): 0\n",
    "- Q2: How many row entries are in this data?: 1089\n",
    "- Q3 How many column entries?: 5"
   ]
  },
  {
   "cell_type": "code",
   "execution_count": 46,
   "metadata": {},
   "outputs": [
    {
     "data": {
      "text/plain": [
       "array(['0s', '10s', '20s', '30s', '40s', '50s', '60s', '70s', '80s'],\n",
       "      dtype=object)"
      ]
     },
     "execution_count": 46,
     "metadata": {},
     "output_type": "execute_result"
    }
   ],
   "source": [
    "timeage_csv['age'].unique()"
   ]
  },
  {
   "cell_type": "code",
   "execution_count": 47,
   "metadata": {},
   "outputs": [
    {
     "data": {
      "text/plain": [
       "9"
      ]
     },
     "execution_count": 47,
     "metadata": {},
     "output_type": "execute_result"
    }
   ],
   "source": [
    " len(timeage_csv['age'].unique())"
   ]
  },
  {
   "cell_type": "markdown",
   "metadata": {},
   "source": [
    "- Q4: How many unique values are in the age column?: 9"
   ]
  },
  {
   "cell_type": "code",
   "execution_count": 48,
   "metadata": {},
   "outputs": [],
   "source": [
    "timeage_csv['date']=pd.to_datetime(timeage_csv['date'])"
   ]
  },
  {
   "cell_type": "code",
   "execution_count": 49,
   "metadata": {},
   "outputs": [
    {
     "name": "stdout",
     "output_type": "stream",
     "text": [
      "<class 'pandas.core.frame.DataFrame'>\n",
      "RangeIndex: 1089 entries, 0 to 1088\n",
      "Data columns (total 5 columns):\n",
      " #   Column     Non-Null Count  Dtype         \n",
      "---  ------     --------------  -----         \n",
      " 0   date       1089 non-null   datetime64[ns]\n",
      " 1   time       1089 non-null   int64         \n",
      " 2   age        1089 non-null   object        \n",
      " 3   confirmed  1089 non-null   int64         \n",
      " 4   deceased   1089 non-null   int64         \n",
      "dtypes: datetime64[ns](1), int64(3), object(1)\n",
      "memory usage: 42.7+ KB\n"
     ]
    }
   ],
   "source": [
    "timeage_csv.info()"
   ]
  },
  {
   "cell_type": "code",
   "execution_count": 59,
   "metadata": {},
   "outputs": [
    {
     "data": {
      "text/plain": [
       "Timedelta('120 days 00:00:00')"
      ]
     },
     "execution_count": 59,
     "metadata": {},
     "output_type": "execute_result"
    }
   ],
   "source": [
    "min_date=timeage_csv['date'].min()\n",
    "max_date=timeage_csv['date'].max()\n",
    "max_date-min_date"
   ]
  },
  {
   "cell_type": "markdown",
   "metadata": {},
   "source": [
    "- Q5: How many days are there from the start to the end of the time series?: 120"
   ]
  },
  {
   "cell_type": "code",
   "execution_count": 67,
   "metadata": {},
   "outputs": [
    {
     "data": {
      "text/html": [
       "<div>\n",
       "<style scoped>\n",
       "    .dataframe tbody tr th:only-of-type {\n",
       "        vertical-align: middle;\n",
       "    }\n",
       "\n",
       "    .dataframe tbody tr th {\n",
       "        vertical-align: top;\n",
       "    }\n",
       "\n",
       "    .dataframe thead th {\n",
       "        text-align: right;\n",
       "    }\n",
       "</style>\n",
       "<table border=\"1\" class=\"dataframe\">\n",
       "  <thead>\n",
       "    <tr style=\"text-align: right;\">\n",
       "      <th></th>\n",
       "      <th>date</th>\n",
       "      <th>time</th>\n",
       "      <th>age</th>\n",
       "      <th>confirmed</th>\n",
       "      <th>deceased</th>\n",
       "    </tr>\n",
       "  </thead>\n",
       "  <tbody>\n",
       "    <tr>\n",
       "      <th>540</th>\n",
       "      <td>2020-05-01</td>\n",
       "      <td>0</td>\n",
       "      <td>0s</td>\n",
       "      <td>140</td>\n",
       "      <td>0</td>\n",
       "    </tr>\n",
       "    <tr>\n",
       "      <th>541</th>\n",
       "      <td>2020-05-01</td>\n",
       "      <td>0</td>\n",
       "      <td>10s</td>\n",
       "      <td>590</td>\n",
       "      <td>0</td>\n",
       "    </tr>\n",
       "    <tr>\n",
       "      <th>542</th>\n",
       "      <td>2020-05-01</td>\n",
       "      <td>0</td>\n",
       "      <td>20s</td>\n",
       "      <td>2957</td>\n",
       "      <td>0</td>\n",
       "    </tr>\n",
       "    <tr>\n",
       "      <th>543</th>\n",
       "      <td>2020-05-01</td>\n",
       "      <td>0</td>\n",
       "      <td>30s</td>\n",
       "      <td>1159</td>\n",
       "      <td>2</td>\n",
       "    </tr>\n",
       "    <tr>\n",
       "      <th>544</th>\n",
       "      <td>2020-05-01</td>\n",
       "      <td>0</td>\n",
       "      <td>40s</td>\n",
       "      <td>1429</td>\n",
       "      <td>3</td>\n",
       "    </tr>\n",
       "    <tr>\n",
       "      <th>545</th>\n",
       "      <td>2020-05-01</td>\n",
       "      <td>0</td>\n",
       "      <td>50s</td>\n",
       "      <td>1956</td>\n",
       "      <td>15</td>\n",
       "    </tr>\n",
       "    <tr>\n",
       "      <th>546</th>\n",
       "      <td>2020-05-01</td>\n",
       "      <td>0</td>\n",
       "      <td>60s</td>\n",
       "      <td>1348</td>\n",
       "      <td>35</td>\n",
       "    </tr>\n",
       "    <tr>\n",
       "      <th>547</th>\n",
       "      <td>2020-05-01</td>\n",
       "      <td>0</td>\n",
       "      <td>70s</td>\n",
       "      <td>709</td>\n",
       "      <td>75</td>\n",
       "    </tr>\n",
       "    <tr>\n",
       "      <th>548</th>\n",
       "      <td>2020-05-01</td>\n",
       "      <td>0</td>\n",
       "      <td>80s</td>\n",
       "      <td>486</td>\n",
       "      <td>118</td>\n",
       "    </tr>\n",
       "  </tbody>\n",
       "</table>\n",
       "</div>"
      ],
      "text/plain": [
       "          date  time  age  confirmed  deceased\n",
       "540 2020-05-01     0   0s        140         0\n",
       "541 2020-05-01     0  10s        590         0\n",
       "542 2020-05-01     0  20s       2957         0\n",
       "543 2020-05-01     0  30s       1159         2\n",
       "544 2020-05-01     0  40s       1429         3\n",
       "545 2020-05-01     0  50s       1956        15\n",
       "546 2020-05-01     0  60s       1348        35\n",
       "547 2020-05-01     0  70s        709        75\n",
       "548 2020-05-01     0  80s        486       118"
      ]
     },
     "execution_count": 67,
     "metadata": {},
     "output_type": "execute_result"
    }
   ],
   "source": [
    "timeage_csv[timeage_csv['date']=='2020-05-01']"
   ]
  },
  {
   "cell_type": "code",
   "execution_count": 116,
   "metadata": {},
   "outputs": [
    {
     "data": {
      "text/plain": [
       "542    20s\n",
       "Name: age, dtype: object"
      ]
     },
     "execution_count": 116,
     "metadata": {},
     "output_type": "execute_result"
    }
   ],
   "source": [
    "may_first=timeage_csv[timeage_csv['date']=='2020-05-01']\n",
    "may_first[may_first['confirmed']==may_first['confirmed'].max()]['age']"
   ]
  },
  {
   "cell_type": "markdown",
   "metadata": {},
   "source": [
    "- Q6: Which of the age groups has the highest total number of cases by May 1, 2020? (0-0s, 1-10s, 2-20s, 3-30s, 4-40s, 5-50s, 6-60s, 7-70s, 8-80s): 2"
   ]
  },
  {
   "cell_type": "code",
   "execution_count": 68,
   "metadata": {},
   "outputs": [
    {
     "data": {
      "text/html": [
       "<div>\n",
       "<style scoped>\n",
       "    .dataframe tbody tr th:only-of-type {\n",
       "        vertical-align: middle;\n",
       "    }\n",
       "\n",
       "    .dataframe tbody tr th {\n",
       "        vertical-align: top;\n",
       "    }\n",
       "\n",
       "    .dataframe thead th {\n",
       "        text-align: right;\n",
       "    }\n",
       "</style>\n",
       "<table border=\"1\" class=\"dataframe\">\n",
       "  <thead>\n",
       "    <tr style=\"text-align: right;\">\n",
       "      <th></th>\n",
       "      <th>date</th>\n",
       "      <th>time</th>\n",
       "      <th>age</th>\n",
       "      <th>confirmed</th>\n",
       "      <th>deceased</th>\n",
       "    </tr>\n",
       "  </thead>\n",
       "  <tbody>\n",
       "    <tr>\n",
       "      <th>3</th>\n",
       "      <td>2020-03-02</td>\n",
       "      <td>0</td>\n",
       "      <td>30s</td>\n",
       "      <td>506</td>\n",
       "      <td>1</td>\n",
       "    </tr>\n",
       "    <tr>\n",
       "      <th>12</th>\n",
       "      <td>2020-03-03</td>\n",
       "      <td>0</td>\n",
       "      <td>30s</td>\n",
       "      <td>578</td>\n",
       "      <td>1</td>\n",
       "    </tr>\n",
       "    <tr>\n",
       "      <th>21</th>\n",
       "      <td>2020-03-04</td>\n",
       "      <td>0</td>\n",
       "      <td>30s</td>\n",
       "      <td>631</td>\n",
       "      <td>1</td>\n",
       "    </tr>\n",
       "    <tr>\n",
       "      <th>30</th>\n",
       "      <td>2020-03-05</td>\n",
       "      <td>0</td>\n",
       "      <td>30s</td>\n",
       "      <td>659</td>\n",
       "      <td>1</td>\n",
       "    </tr>\n",
       "    <tr>\n",
       "      <th>39</th>\n",
       "      <td>2020-03-06</td>\n",
       "      <td>0</td>\n",
       "      <td>30s</td>\n",
       "      <td>693</td>\n",
       "      <td>1</td>\n",
       "    </tr>\n",
       "    <tr>\n",
       "      <th>...</th>\n",
       "      <td>...</td>\n",
       "      <td>...</td>\n",
       "      <td>...</td>\n",
       "      <td>...</td>\n",
       "      <td>...</td>\n",
       "    </tr>\n",
       "    <tr>\n",
       "      <th>1047</th>\n",
       "      <td>2020-06-26</td>\n",
       "      <td>0</td>\n",
       "      <td>30s</td>\n",
       "      <td>1463</td>\n",
       "      <td>2</td>\n",
       "    </tr>\n",
       "    <tr>\n",
       "      <th>1056</th>\n",
       "      <td>2020-06-27</td>\n",
       "      <td>0</td>\n",
       "      <td>30s</td>\n",
       "      <td>1473</td>\n",
       "      <td>2</td>\n",
       "    </tr>\n",
       "    <tr>\n",
       "      <th>1065</th>\n",
       "      <td>2020-06-28</td>\n",
       "      <td>0</td>\n",
       "      <td>30s</td>\n",
       "      <td>1485</td>\n",
       "      <td>2</td>\n",
       "    </tr>\n",
       "    <tr>\n",
       "      <th>1074</th>\n",
       "      <td>2020-06-29</td>\n",
       "      <td>0</td>\n",
       "      <td>30s</td>\n",
       "      <td>1490</td>\n",
       "      <td>2</td>\n",
       "    </tr>\n",
       "    <tr>\n",
       "      <th>1083</th>\n",
       "      <td>2020-06-30</td>\n",
       "      <td>0</td>\n",
       "      <td>30s</td>\n",
       "      <td>1496</td>\n",
       "      <td>2</td>\n",
       "    </tr>\n",
       "  </tbody>\n",
       "</table>\n",
       "<p>121 rows × 5 columns</p>\n",
       "</div>"
      ],
      "text/plain": [
       "           date  time  age  confirmed  deceased\n",
       "3    2020-03-02     0  30s        506         1\n",
       "12   2020-03-03     0  30s        578         1\n",
       "21   2020-03-04     0  30s        631         1\n",
       "30   2020-03-05     0  30s        659         1\n",
       "39   2020-03-06     0  30s        693         1\n",
       "...         ...   ...  ...        ...       ...\n",
       "1047 2020-06-26     0  30s       1463         2\n",
       "1056 2020-06-27     0  30s       1473         2\n",
       "1065 2020-06-28     0  30s       1485         2\n",
       "1074 2020-06-29     0  30s       1490         2\n",
       "1083 2020-06-30     0  30s       1496         2\n",
       "\n",
       "[121 rows x 5 columns]"
      ]
     },
     "execution_count": 68,
     "metadata": {},
     "output_type": "execute_result"
    }
   ],
   "source": [
    "timeage_csv[timeage_csv['age']=='30s']"
   ]
  },
  {
   "cell_type": "code",
   "execution_count": 74,
   "metadata": {},
   "outputs": [
    {
     "data": {
      "text/plain": [
       "1496"
      ]
     },
     "execution_count": 74,
     "metadata": {},
     "output_type": "execute_result"
    }
   ],
   "source": [
    "timeage_csv[timeage_csv['age']=='30s'].iloc[-1]['confirmed']"
   ]
  },
  {
   "cell_type": "markdown",
   "metadata": {},
   "source": [
    "- Q7 What is the total number of confirmed cases for the 30s age group by the end of the time series? (round to the nearest hundredths): 1496 〓 1500"
   ]
  },
  {
   "cell_type": "code",
   "execution_count": 138,
   "metadata": {},
   "outputs": [
    {
     "data": {
      "text/plain": [
       "139"
      ]
     },
     "execution_count": 138,
     "metadata": {},
     "output_type": "execute_result"
    }
   ],
   "source": [
    "timeage_csv['deceased'].max()"
   ]
  },
  {
   "cell_type": "code",
   "execution_count": 145,
   "metadata": {},
   "outputs": [
    {
     "data": {
      "text/plain": [
       "980     80s\n",
       "989     80s\n",
       "998     80s\n",
       "1007    80s\n",
       "1016    80s\n",
       "1025    80s\n",
       "1034    80s\n",
       "1043    80s\n",
       "1052    80s\n",
       "1061    80s\n",
       "1070    80s\n",
       "1079    80s\n",
       "1088    80s\n",
       "Name: age, dtype: object"
      ]
     },
     "execution_count": 145,
     "metadata": {},
     "output_type": "execute_result"
    }
   ],
   "source": [
    "timeage_csv[timeage_csv['deceased']==timeage_csv['deceased'].max()]['age']"
   ]
  },
  {
   "cell_type": "markdown",
   "metadata": {},
   "source": [
    "- Q8: Which of the age groups has the highest total number of deceased cases? (0-0s, 1-10s, 2-20s, 3-30s, 4-40s, 5-50s, 6-60s, 7-70s, 8-80s): 8"
   ]
  },
  {
   "cell_type": "code",
   "execution_count": 103,
   "metadata": {},
   "outputs": [
    {
     "data": {
      "text/html": [
       "<div>\n",
       "<style scoped>\n",
       "    .dataframe tbody tr th:only-of-type {\n",
       "        vertical-align: middle;\n",
       "    }\n",
       "\n",
       "    .dataframe tbody tr th {\n",
       "        vertical-align: top;\n",
       "    }\n",
       "\n",
       "    .dataframe thead th {\n",
       "        text-align: right;\n",
       "    }\n",
       "</style>\n",
       "<table border=\"1\" class=\"dataframe\">\n",
       "  <thead>\n",
       "    <tr style=\"text-align: right;\">\n",
       "      <th></th>\n",
       "      <th>date</th>\n",
       "      <th>time</th>\n",
       "      <th>age</th>\n",
       "      <th>confirmed</th>\n",
       "      <th>deceased</th>\n",
       "    </tr>\n",
       "  </thead>\n",
       "  <tbody>\n",
       "    <tr>\n",
       "      <th>7</th>\n",
       "      <td>2020-03-02</td>\n",
       "      <td>0</td>\n",
       "      <td>70s</td>\n",
       "      <td>192</td>\n",
       "      <td>6</td>\n",
       "    </tr>\n",
       "    <tr>\n",
       "      <th>16</th>\n",
       "      <td>2020-03-03</td>\n",
       "      <td>0</td>\n",
       "      <td>70s</td>\n",
       "      <td>224</td>\n",
       "      <td>9</td>\n",
       "    </tr>\n",
       "    <tr>\n",
       "      <th>25</th>\n",
       "      <td>2020-03-04</td>\n",
       "      <td>0</td>\n",
       "      <td>70s</td>\n",
       "      <td>260</td>\n",
       "      <td>12</td>\n",
       "    </tr>\n",
       "    <tr>\n",
       "      <th>34</th>\n",
       "      <td>2020-03-05</td>\n",
       "      <td>0</td>\n",
       "      <td>70s</td>\n",
       "      <td>288</td>\n",
       "      <td>13</td>\n",
       "    </tr>\n",
       "    <tr>\n",
       "      <th>43</th>\n",
       "      <td>2020-03-06</td>\n",
       "      <td>0</td>\n",
       "      <td>70s</td>\n",
       "      <td>340</td>\n",
       "      <td>14</td>\n",
       "    </tr>\n",
       "    <tr>\n",
       "      <th>...</th>\n",
       "      <td>...</td>\n",
       "      <td>...</td>\n",
       "      <td>...</td>\n",
       "      <td>...</td>\n",
       "      <td>...</td>\n",
       "    </tr>\n",
       "    <tr>\n",
       "      <th>1051</th>\n",
       "      <td>2020-06-26</td>\n",
       "      <td>0</td>\n",
       "      <td>70s</td>\n",
       "      <td>839</td>\n",
       "      <td>82</td>\n",
       "    </tr>\n",
       "    <tr>\n",
       "      <th>1060</th>\n",
       "      <td>2020-06-27</td>\n",
       "      <td>0</td>\n",
       "      <td>70s</td>\n",
       "      <td>843</td>\n",
       "      <td>82</td>\n",
       "    </tr>\n",
       "    <tr>\n",
       "      <th>1069</th>\n",
       "      <td>2020-06-28</td>\n",
       "      <td>0</td>\n",
       "      <td>70s</td>\n",
       "      <td>846</td>\n",
       "      <td>82</td>\n",
       "    </tr>\n",
       "    <tr>\n",
       "      <th>1078</th>\n",
       "      <td>2020-06-29</td>\n",
       "      <td>0</td>\n",
       "      <td>70s</td>\n",
       "      <td>847</td>\n",
       "      <td>82</td>\n",
       "    </tr>\n",
       "    <tr>\n",
       "      <th>1087</th>\n",
       "      <td>2020-06-30</td>\n",
       "      <td>0</td>\n",
       "      <td>70s</td>\n",
       "      <td>850</td>\n",
       "      <td>82</td>\n",
       "    </tr>\n",
       "  </tbody>\n",
       "</table>\n",
       "<p>121 rows × 5 columns</p>\n",
       "</div>"
      ],
      "text/plain": [
       "           date  time  age  confirmed  deceased\n",
       "7    2020-03-02     0  70s        192         6\n",
       "16   2020-03-03     0  70s        224         9\n",
       "25   2020-03-04     0  70s        260        12\n",
       "34   2020-03-05     0  70s        288        13\n",
       "43   2020-03-06     0  70s        340        14\n",
       "...         ...   ...  ...        ...       ...\n",
       "1051 2020-06-26     0  70s        839        82\n",
       "1060 2020-06-27     0  70s        843        82\n",
       "1069 2020-06-28     0  70s        846        82\n",
       "1078 2020-06-29     0  70s        847        82\n",
       "1087 2020-06-30     0  70s        850        82\n",
       "\n",
       "[121 rows x 5 columns]"
      ]
     },
     "execution_count": 103,
     "metadata": {},
     "output_type": "execute_result"
    }
   ],
   "source": [
    "timeage_csv[timeage_csv['age']=='70s']"
   ]
  },
  {
   "cell_type": "code",
   "execution_count": 105,
   "metadata": {},
   "outputs": [
    {
     "data": {
      "text/plain": [
       "82"
      ]
     },
     "execution_count": 105,
     "metadata": {},
     "output_type": "execute_result"
    }
   ],
   "source": [
    "timeage_csv[timeage_csv['age']=='70s'].iloc[-1]['deceased']"
   ]
  },
  {
   "cell_type": "markdown",
   "metadata": {},
   "source": [
    "- Q9: What is the total number of deceased cases for the 70s age group? (round to the nearest tens): 82 = 80"
   ]
  },
  {
   "cell_type": "markdown",
   "metadata": {},
   "source": [
    "# Task 2: Region"
   ]
  },
  {
   "cell_type": "code",
   "execution_count": 122,
   "metadata": {},
   "outputs": [
    {
     "data": {
      "text/html": [
       "<div>\n",
       "<style scoped>\n",
       "    .dataframe tbody tr th:only-of-type {\n",
       "        vertical-align: middle;\n",
       "    }\n",
       "\n",
       "    .dataframe tbody tr th {\n",
       "        vertical-align: top;\n",
       "    }\n",
       "\n",
       "    .dataframe thead th {\n",
       "        text-align: right;\n",
       "    }\n",
       "</style>\n",
       "<table border=\"1\" class=\"dataframe\">\n",
       "  <thead>\n",
       "    <tr style=\"text-align: right;\">\n",
       "      <th></th>\n",
       "      <th>date</th>\n",
       "      <th>time</th>\n",
       "      <th>province</th>\n",
       "      <th>confirmed</th>\n",
       "      <th>released</th>\n",
       "      <th>deceased</th>\n",
       "    </tr>\n",
       "  </thead>\n",
       "  <tbody>\n",
       "    <tr>\n",
       "      <th>0</th>\n",
       "      <td>2020-01-20</td>\n",
       "      <td>16</td>\n",
       "      <td>Seoul</td>\n",
       "      <td>0</td>\n",
       "      <td>0</td>\n",
       "      <td>0</td>\n",
       "    </tr>\n",
       "    <tr>\n",
       "      <th>1</th>\n",
       "      <td>2020-01-20</td>\n",
       "      <td>16</td>\n",
       "      <td>Busan</td>\n",
       "      <td>0</td>\n",
       "      <td>0</td>\n",
       "      <td>0</td>\n",
       "    </tr>\n",
       "    <tr>\n",
       "      <th>2</th>\n",
       "      <td>2020-01-20</td>\n",
       "      <td>16</td>\n",
       "      <td>Daegu</td>\n",
       "      <td>0</td>\n",
       "      <td>0</td>\n",
       "      <td>0</td>\n",
       "    </tr>\n",
       "    <tr>\n",
       "      <th>3</th>\n",
       "      <td>2020-01-20</td>\n",
       "      <td>16</td>\n",
       "      <td>Incheon</td>\n",
       "      <td>1</td>\n",
       "      <td>0</td>\n",
       "      <td>0</td>\n",
       "    </tr>\n",
       "    <tr>\n",
       "      <th>4</th>\n",
       "      <td>2020-01-20</td>\n",
       "      <td>16</td>\n",
       "      <td>Gwangju</td>\n",
       "      <td>0</td>\n",
       "      <td>0</td>\n",
       "      <td>0</td>\n",
       "    </tr>\n",
       "  </tbody>\n",
       "</table>\n",
       "</div>"
      ],
      "text/plain": [
       "         date  time province  confirmed  released  deceased\n",
       "0  2020-01-20    16    Seoul          0         0         0\n",
       "1  2020-01-20    16    Busan          0         0         0\n",
       "2  2020-01-20    16    Daegu          0         0         0\n",
       "3  2020-01-20    16  Incheon          1         0         0\n",
       "4  2020-01-20    16  Gwangju          0         0         0"
      ]
     },
     "execution_count": 122,
     "metadata": {},
     "output_type": "execute_result"
    }
   ],
   "source": [
    "TimeProvince_csv=pd.read_csv('C:/Users/castl/Desktop/데이터 사이언스/TimeProvince.csv')\n",
    "TimeProvince_csv.head(5)"
   ]
  },
  {
   "cell_type": "code",
   "execution_count": 133,
   "metadata": {},
   "outputs": [
    {
     "name": "stdout",
     "output_type": "stream",
     "text": [
      "<class 'pandas.core.frame.DataFrame'>\n",
      "RangeIndex: 2771 entries, 0 to 2770\n",
      "Data columns (total 6 columns):\n",
      " #   Column     Non-Null Count  Dtype \n",
      "---  ------     --------------  ----- \n",
      " 0   date       2771 non-null   object\n",
      " 1   time       2771 non-null   int64 \n",
      " 2   province   2771 non-null   object\n",
      " 3   confirmed  2771 non-null   int64 \n",
      " 4   released   2771 non-null   int64 \n",
      " 5   deceased   2771 non-null   int64 \n",
      "dtypes: int64(4), object(2)\n",
      "memory usage: 130.0+ KB\n"
     ]
    }
   ],
   "source": [
    "TimeProvince_csv.info()"
   ]
  },
  {
   "cell_type": "code",
   "execution_count": 132,
   "metadata": {},
   "outputs": [
    {
     "data": {
      "text/plain": [
       "2739    6906\n",
       "2756    6906\n",
       "Name: confirmed, dtype: int64"
      ]
     },
     "execution_count": 132,
     "metadata": {},
     "output_type": "execute_result"
    }
   ],
   "source": [
    "TimeProvince_csv[TimeProvince_csv['confirmed']==TimeProvince_csv['confirmed'].max()]['confirmed']"
   ]
  },
  {
   "cell_type": "markdown",
   "metadata": {},
   "source": [
    "- Q10: What is the highest number of confirmed cases?: 6906"
   ]
  },
  {
   "cell_type": "code",
   "execution_count": 155,
   "metadata": {},
   "outputs": [
    {
     "data": {
      "text/plain": [
       "320.72645254420786"
      ]
     },
     "execution_count": 155,
     "metadata": {},
     "output_type": "execute_result"
    }
   ],
   "source": [
    "TimeProvince_csv['released'].mean()"
   ]
  },
  {
   "cell_type": "code",
   "execution_count": 157,
   "metadata": {},
   "outputs": [
    {
     "data": {
      "text/plain": [
       "321"
      ]
     },
     "execution_count": 157,
     "metadata": {},
     "output_type": "execute_result"
    }
   ],
   "source": [
    "round(TimeProvince_csv['released'].mean())"
   ]
  },
  {
   "cell_type": "markdown",
   "metadata": {},
   "source": [
    "- Q11: What is the average number of released patients? (round to the nearest whole number): 321"
   ]
  },
  {
   "cell_type": "code",
   "execution_count": 159,
   "metadata": {},
   "outputs": [
    {
     "data": {
      "text/plain": [
       "array(['Seoul', 'Busan', 'Daegu', 'Incheon', 'Gwangju', 'Daejeon',\n",
       "       'Ulsan', 'Sejong', 'Gyeonggi-do', 'Gangwon-do',\n",
       "       'Chungcheongbuk-do', 'Chungcheongnam-do', 'Jeollabuk-do',\n",
       "       'Jeollanam-do', 'Gyeongsangbuk-do', 'Gyeongsangnam-do', 'Jeju-do'],\n",
       "      dtype=object)"
      ]
     },
     "execution_count": 159,
     "metadata": {},
     "output_type": "execute_result"
    }
   ],
   "source": [
    "TimeProvince_csv['province'].unique()"
   ]
  },
  {
   "cell_type": "code",
   "execution_count": 160,
   "metadata": {},
   "outputs": [
    {
     "data": {
      "text/plain": [
       "17"
      ]
     },
     "execution_count": 160,
     "metadata": {},
     "output_type": "execute_result"
    }
   ],
   "source": [
    "len(TimeProvince_csv['province'].unique())"
   ]
  },
  {
   "cell_type": "markdown",
   "metadata": {},
   "source": [
    "- Q12: How many regions/provinces were included in the data?: 17"
   ]
  },
  {
   "cell_type": "code",
   "execution_count": 165,
   "metadata": {},
   "outputs": [],
   "source": [
    "TimeProvince_csv['date']=pd.to_datetime(TimeProvince_csv['date'])"
   ]
  },
  {
   "cell_type": "code",
   "execution_count": 166,
   "metadata": {},
   "outputs": [
    {
     "name": "stdout",
     "output_type": "stream",
     "text": [
      "<class 'pandas.core.frame.DataFrame'>\n",
      "RangeIndex: 2771 entries, 0 to 2770\n",
      "Data columns (total 6 columns):\n",
      " #   Column     Non-Null Count  Dtype         \n",
      "---  ------     --------------  -----         \n",
      " 0   date       2771 non-null   datetime64[ns]\n",
      " 1   time       2771 non-null   int64         \n",
      " 2   province   2771 non-null   object        \n",
      " 3   confirmed  2771 non-null   int64         \n",
      " 4   released   2771 non-null   int64         \n",
      " 5   deceased   2771 non-null   int64         \n",
      "dtypes: datetime64[ns](1), int64(4), object(1)\n",
      "memory usage: 130.0+ KB\n"
     ]
    }
   ],
   "source": [
    "TimeProvince_csv.info()"
   ]
  },
  {
   "cell_type": "code",
   "execution_count": 170,
   "metadata": {},
   "outputs": [],
   "source": [
    "last_june=TimeProvince_csv[TimeProvince_csv['date']=='2020-06-30']"
   ]
  },
  {
   "cell_type": "code",
   "execution_count": 179,
   "metadata": {},
   "outputs": [
    {
     "data": {
      "text/html": [
       "<div>\n",
       "<style scoped>\n",
       "    .dataframe tbody tr th:only-of-type {\n",
       "        vertical-align: middle;\n",
       "    }\n",
       "\n",
       "    .dataframe tbody tr th {\n",
       "        vertical-align: top;\n",
       "    }\n",
       "\n",
       "    .dataframe thead th {\n",
       "        text-align: right;\n",
       "    }\n",
       "</style>\n",
       "<table border=\"1\" class=\"dataframe\">\n",
       "  <thead>\n",
       "    <tr style=\"text-align: right;\">\n",
       "      <th></th>\n",
       "      <th>confirmed</th>\n",
       "      <th>province</th>\n",
       "    </tr>\n",
       "  </thead>\n",
       "  <tbody>\n",
       "    <tr>\n",
       "      <th>2754</th>\n",
       "      <td>1312</td>\n",
       "      <td>Seoul</td>\n",
       "    </tr>\n",
       "    <tr>\n",
       "      <th>2755</th>\n",
       "      <td>154</td>\n",
       "      <td>Busan</td>\n",
       "    </tr>\n",
       "    <tr>\n",
       "      <th>2756</th>\n",
       "      <td>6906</td>\n",
       "      <td>Daegu</td>\n",
       "    </tr>\n",
       "    <tr>\n",
       "      <th>2757</th>\n",
       "      <td>341</td>\n",
       "      <td>Incheon</td>\n",
       "    </tr>\n",
       "    <tr>\n",
       "      <th>2758</th>\n",
       "      <td>44</td>\n",
       "      <td>Gwangju</td>\n",
       "    </tr>\n",
       "    <tr>\n",
       "      <th>2759</th>\n",
       "      <td>117</td>\n",
       "      <td>Daejeon</td>\n",
       "    </tr>\n",
       "    <tr>\n",
       "      <th>2760</th>\n",
       "      <td>55</td>\n",
       "      <td>Ulsan</td>\n",
       "    </tr>\n",
       "    <tr>\n",
       "      <th>2761</th>\n",
       "      <td>50</td>\n",
       "      <td>Sejong</td>\n",
       "    </tr>\n",
       "    <tr>\n",
       "      <th>2762</th>\n",
       "      <td>1207</td>\n",
       "      <td>Gyeonggi-do</td>\n",
       "    </tr>\n",
       "    <tr>\n",
       "      <th>2763</th>\n",
       "      <td>65</td>\n",
       "      <td>Gangwon-do</td>\n",
       "    </tr>\n",
       "    <tr>\n",
       "      <th>2764</th>\n",
       "      <td>65</td>\n",
       "      <td>Chungcheongbuk-do</td>\n",
       "    </tr>\n",
       "    <tr>\n",
       "      <th>2765</th>\n",
       "      <td>167</td>\n",
       "      <td>Chungcheongnam-do</td>\n",
       "    </tr>\n",
       "    <tr>\n",
       "      <th>2766</th>\n",
       "      <td>27</td>\n",
       "      <td>Jeollabuk-do</td>\n",
       "    </tr>\n",
       "    <tr>\n",
       "      <th>2767</th>\n",
       "      <td>24</td>\n",
       "      <td>Jeollanam-do</td>\n",
       "    </tr>\n",
       "    <tr>\n",
       "      <th>2768</th>\n",
       "      <td>1389</td>\n",
       "      <td>Gyeongsangbuk-do</td>\n",
       "    </tr>\n",
       "    <tr>\n",
       "      <th>2769</th>\n",
       "      <td>134</td>\n",
       "      <td>Gyeongsangnam-do</td>\n",
       "    </tr>\n",
       "    <tr>\n",
       "      <th>2770</th>\n",
       "      <td>19</td>\n",
       "      <td>Jeju-do</td>\n",
       "    </tr>\n",
       "  </tbody>\n",
       "</table>\n",
       "</div>"
      ],
      "text/plain": [
       "      confirmed           province\n",
       "2754       1312              Seoul\n",
       "2755        154              Busan\n",
       "2756       6906              Daegu\n",
       "2757        341            Incheon\n",
       "2758         44            Gwangju\n",
       "2759        117            Daejeon\n",
       "2760         55              Ulsan\n",
       "2761         50             Sejong\n",
       "2762       1207        Gyeonggi-do\n",
       "2763         65         Gangwon-do\n",
       "2764         65  Chungcheongbuk-do\n",
       "2765        167  Chungcheongnam-do\n",
       "2766         27       Jeollabuk-do\n",
       "2767         24       Jeollanam-do\n",
       "2768       1389   Gyeongsangbuk-do\n",
       "2769        134   Gyeongsangnam-do\n",
       "2770         19            Jeju-do"
      ]
     },
     "execution_count": 179,
     "metadata": {},
     "output_type": "execute_result"
    }
   ],
   "source": [
    "last_june[['confirmed','province']]"
   ]
  },
  {
   "cell_type": "code",
   "execution_count": 215,
   "metadata": {},
   "outputs": [
    {
     "data": {
      "text/html": [
       "<div>\n",
       "<style scoped>\n",
       "    .dataframe tbody tr th:only-of-type {\n",
       "        vertical-align: middle;\n",
       "    }\n",
       "\n",
       "    .dataframe tbody tr th {\n",
       "        vertical-align: top;\n",
       "    }\n",
       "\n",
       "    .dataframe thead th {\n",
       "        text-align: right;\n",
       "    }\n",
       "</style>\n",
       "<table border=\"1\" class=\"dataframe\">\n",
       "  <thead>\n",
       "    <tr style=\"text-align: right;\">\n",
       "      <th></th>\n",
       "      <th>confirmed</th>\n",
       "      <th>province</th>\n",
       "    </tr>\n",
       "  </thead>\n",
       "  <tbody>\n",
       "    <tr>\n",
       "      <th>2756</th>\n",
       "      <td>6906</td>\n",
       "      <td>Daegu</td>\n",
       "    </tr>\n",
       "    <tr>\n",
       "      <th>2768</th>\n",
       "      <td>1389</td>\n",
       "      <td>Gyeongsangbuk-do</td>\n",
       "    </tr>\n",
       "    <tr>\n",
       "      <th>2754</th>\n",
       "      <td>1312</td>\n",
       "      <td>Seoul</td>\n",
       "    </tr>\n",
       "    <tr>\n",
       "      <th>2762</th>\n",
       "      <td>1207</td>\n",
       "      <td>Gyeonggi-do</td>\n",
       "    </tr>\n",
       "    <tr>\n",
       "      <th>2757</th>\n",
       "      <td>341</td>\n",
       "      <td>Incheon</td>\n",
       "    </tr>\n",
       "    <tr>\n",
       "      <th>2765</th>\n",
       "      <td>167</td>\n",
       "      <td>Chungcheongnam-do</td>\n",
       "    </tr>\n",
       "    <tr>\n",
       "      <th>2755</th>\n",
       "      <td>154</td>\n",
       "      <td>Busan</td>\n",
       "    </tr>\n",
       "    <tr>\n",
       "      <th>2769</th>\n",
       "      <td>134</td>\n",
       "      <td>Gyeongsangnam-do</td>\n",
       "    </tr>\n",
       "    <tr>\n",
       "      <th>2759</th>\n",
       "      <td>117</td>\n",
       "      <td>Daejeon</td>\n",
       "    </tr>\n",
       "    <tr>\n",
       "      <th>2763</th>\n",
       "      <td>65</td>\n",
       "      <td>Gangwon-do</td>\n",
       "    </tr>\n",
       "    <tr>\n",
       "      <th>2764</th>\n",
       "      <td>65</td>\n",
       "      <td>Chungcheongbuk-do</td>\n",
       "    </tr>\n",
       "    <tr>\n",
       "      <th>2760</th>\n",
       "      <td>55</td>\n",
       "      <td>Ulsan</td>\n",
       "    </tr>\n",
       "    <tr>\n",
       "      <th>2761</th>\n",
       "      <td>50</td>\n",
       "      <td>Sejong</td>\n",
       "    </tr>\n",
       "    <tr>\n",
       "      <th>2758</th>\n",
       "      <td>44</td>\n",
       "      <td>Gwangju</td>\n",
       "    </tr>\n",
       "    <tr>\n",
       "      <th>2766</th>\n",
       "      <td>27</td>\n",
       "      <td>Jeollabuk-do</td>\n",
       "    </tr>\n",
       "    <tr>\n",
       "      <th>2767</th>\n",
       "      <td>24</td>\n",
       "      <td>Jeollanam-do</td>\n",
       "    </tr>\n",
       "    <tr>\n",
       "      <th>2770</th>\n",
       "      <td>19</td>\n",
       "      <td>Jeju-do</td>\n",
       "    </tr>\n",
       "  </tbody>\n",
       "</table>\n",
       "</div>"
      ],
      "text/plain": [
       "      confirmed           province\n",
       "2756       6906              Daegu\n",
       "2768       1389   Gyeongsangbuk-do\n",
       "2754       1312              Seoul\n",
       "2762       1207        Gyeonggi-do\n",
       "2757        341            Incheon\n",
       "2765        167  Chungcheongnam-do\n",
       "2755        154              Busan\n",
       "2769        134   Gyeongsangnam-do\n",
       "2759        117            Daejeon\n",
       "2763         65         Gangwon-do\n",
       "2764         65  Chungcheongbuk-do\n",
       "2760         55              Ulsan\n",
       "2761         50             Sejong\n",
       "2758         44            Gwangju\n",
       "2766         27       Jeollabuk-do\n",
       "2767         24       Jeollanam-do\n",
       "2770         19            Jeju-do"
      ]
     },
     "execution_count": 215,
     "metadata": {},
     "output_type": "execute_result"
    }
   ],
   "source": [
    "last_june[['confirmed','province']].sort_values(by='confirmed',ascending=False)"
   ]
  },
  {
   "cell_type": "markdown",
   "metadata": {},
   "source": [
    "- Q13: Rank the regions/provinces in descending order based on the total number of cases by the end of June. What is the position of Seoul in this ranking?: 3"
   ]
  },
  {
   "cell_type": "code",
   "execution_count": 192,
   "metadata": {},
   "outputs": [
    {
     "data": {
      "text/plain": [
       "2754    0.11\n",
       "Name: confirmed, dtype: float64"
      ]
     },
     "execution_count": 192,
     "metadata": {},
     "output_type": "execute_result"
    }
   ],
   "source": [
    "s=last_june['confirmed'].sum()\n",
    "num_seoul=last_june[last_june['province']=='Seoul']['confirmed']\n",
    "round(num_seoul/s,2)"
   ]
  },
  {
   "cell_type": "markdown",
   "metadata": {},
   "source": [
    "- Q14: Based on the Q13, what percentage is Seoul's proportion to the against the total number of confirmed cases? (round to the nearest hundredths): 11"
   ]
  },
  {
   "cell_type": "code",
   "execution_count": 193,
   "metadata": {},
   "outputs": [
    {
     "data": {
      "text/html": [
       "<div>\n",
       "<style scoped>\n",
       "    .dataframe tbody tr th:only-of-type {\n",
       "        vertical-align: middle;\n",
       "    }\n",
       "\n",
       "    .dataframe tbody tr th {\n",
       "        vertical-align: top;\n",
       "    }\n",
       "\n",
       "    .dataframe thead th {\n",
       "        text-align: right;\n",
       "    }\n",
       "</style>\n",
       "<table border=\"1\" class=\"dataframe\">\n",
       "  <thead>\n",
       "    <tr style=\"text-align: right;\">\n",
       "      <th></th>\n",
       "      <th>date</th>\n",
       "      <th>time</th>\n",
       "      <th>province</th>\n",
       "      <th>confirmed</th>\n",
       "      <th>released</th>\n",
       "      <th>deceased</th>\n",
       "    </tr>\n",
       "  </thead>\n",
       "  <tbody>\n",
       "    <tr>\n",
       "      <th>646</th>\n",
       "      <td>2020-02-27</td>\n",
       "      <td>16</td>\n",
       "      <td>Seoul</td>\n",
       "      <td>56</td>\n",
       "      <td>8</td>\n",
       "      <td>0</td>\n",
       "    </tr>\n",
       "    <tr>\n",
       "      <th>647</th>\n",
       "      <td>2020-02-27</td>\n",
       "      <td>16</td>\n",
       "      <td>Busan</td>\n",
       "      <td>61</td>\n",
       "      <td>0</td>\n",
       "      <td>0</td>\n",
       "    </tr>\n",
       "    <tr>\n",
       "      <th>648</th>\n",
       "      <td>2020-02-27</td>\n",
       "      <td>16</td>\n",
       "      <td>Daegu</td>\n",
       "      <td>1132</td>\n",
       "      <td>2</td>\n",
       "      <td>6</td>\n",
       "    </tr>\n",
       "    <tr>\n",
       "      <th>649</th>\n",
       "      <td>2020-02-27</td>\n",
       "      <td>16</td>\n",
       "      <td>Incheon</td>\n",
       "      <td>3</td>\n",
       "      <td>1</td>\n",
       "      <td>0</td>\n",
       "    </tr>\n",
       "    <tr>\n",
       "      <th>650</th>\n",
       "      <td>2020-02-27</td>\n",
       "      <td>16</td>\n",
       "      <td>Gwangju</td>\n",
       "      <td>9</td>\n",
       "      <td>2</td>\n",
       "      <td>0</td>\n",
       "    </tr>\n",
       "    <tr>\n",
       "      <th>651</th>\n",
       "      <td>2020-02-27</td>\n",
       "      <td>16</td>\n",
       "      <td>Daejeon</td>\n",
       "      <td>9</td>\n",
       "      <td>0</td>\n",
       "      <td>0</td>\n",
       "    </tr>\n",
       "    <tr>\n",
       "      <th>652</th>\n",
       "      <td>2020-02-27</td>\n",
       "      <td>16</td>\n",
       "      <td>Ulsan</td>\n",
       "      <td>11</td>\n",
       "      <td>0</td>\n",
       "      <td>0</td>\n",
       "    </tr>\n",
       "    <tr>\n",
       "      <th>653</th>\n",
       "      <td>2020-02-27</td>\n",
       "      <td>16</td>\n",
       "      <td>Sejong</td>\n",
       "      <td>1</td>\n",
       "      <td>0</td>\n",
       "      <td>0</td>\n",
       "    </tr>\n",
       "    <tr>\n",
       "      <th>654</th>\n",
       "      <td>2020-02-27</td>\n",
       "      <td>16</td>\n",
       "      <td>Gyeonggi-do</td>\n",
       "      <td>62</td>\n",
       "      <td>8</td>\n",
       "      <td>1</td>\n",
       "    </tr>\n",
       "    <tr>\n",
       "      <th>655</th>\n",
       "      <td>2020-02-27</td>\n",
       "      <td>16</td>\n",
       "      <td>Gangwon-do</td>\n",
       "      <td>6</td>\n",
       "      <td>0</td>\n",
       "      <td>0</td>\n",
       "    </tr>\n",
       "    <tr>\n",
       "      <th>656</th>\n",
       "      <td>2020-02-27</td>\n",
       "      <td>16</td>\n",
       "      <td>Chungcheongbuk-do</td>\n",
       "      <td>8</td>\n",
       "      <td>0</td>\n",
       "      <td>0</td>\n",
       "    </tr>\n",
       "    <tr>\n",
       "      <th>657</th>\n",
       "      <td>2020-02-27</td>\n",
       "      <td>16</td>\n",
       "      <td>Chungcheongnam-do</td>\n",
       "      <td>12</td>\n",
       "      <td>0</td>\n",
       "      <td>0</td>\n",
       "    </tr>\n",
       "    <tr>\n",
       "      <th>658</th>\n",
       "      <td>2020-02-27</td>\n",
       "      <td>16</td>\n",
       "      <td>Jeollabuk-do</td>\n",
       "      <td>5</td>\n",
       "      <td>1</td>\n",
       "      <td>0</td>\n",
       "    </tr>\n",
       "    <tr>\n",
       "      <th>659</th>\n",
       "      <td>2020-02-27</td>\n",
       "      <td>16</td>\n",
       "      <td>Jeollanam-do</td>\n",
       "      <td>1</td>\n",
       "      <td>0</td>\n",
       "      <td>0</td>\n",
       "    </tr>\n",
       "    <tr>\n",
       "      <th>660</th>\n",
       "      <td>2020-02-27</td>\n",
       "      <td>16</td>\n",
       "      <td>Gyeongsangbuk-do</td>\n",
       "      <td>345</td>\n",
       "      <td>1</td>\n",
       "      <td>6</td>\n",
       "    </tr>\n",
       "    <tr>\n",
       "      <th>661</th>\n",
       "      <td>2020-02-27</td>\n",
       "      <td>16</td>\n",
       "      <td>Gyeongsangnam-do</td>\n",
       "      <td>43</td>\n",
       "      <td>0</td>\n",
       "      <td>0</td>\n",
       "    </tr>\n",
       "    <tr>\n",
       "      <th>662</th>\n",
       "      <td>2020-02-27</td>\n",
       "      <td>16</td>\n",
       "      <td>Jeju-do</td>\n",
       "      <td>2</td>\n",
       "      <td>0</td>\n",
       "      <td>0</td>\n",
       "    </tr>\n",
       "  </tbody>\n",
       "</table>\n",
       "</div>"
      ],
      "text/plain": [
       "          date  time           province  confirmed  released  deceased\n",
       "646 2020-02-27    16              Seoul         56         8         0\n",
       "647 2020-02-27    16              Busan         61         0         0\n",
       "648 2020-02-27    16              Daegu       1132         2         6\n",
       "649 2020-02-27    16            Incheon          3         1         0\n",
       "650 2020-02-27    16            Gwangju          9         2         0\n",
       "651 2020-02-27    16            Daejeon          9         0         0\n",
       "652 2020-02-27    16              Ulsan         11         0         0\n",
       "653 2020-02-27    16             Sejong          1         0         0\n",
       "654 2020-02-27    16        Gyeonggi-do         62         8         1\n",
       "655 2020-02-27    16         Gangwon-do          6         0         0\n",
       "656 2020-02-27    16  Chungcheongbuk-do          8         0         0\n",
       "657 2020-02-27    16  Chungcheongnam-do         12         0         0\n",
       "658 2020-02-27    16       Jeollabuk-do          5         1         0\n",
       "659 2020-02-27    16       Jeollanam-do          1         0         0\n",
       "660 2020-02-27    16   Gyeongsangbuk-do        345         1         6\n",
       "661 2020-02-27    16   Gyeongsangnam-do         43         0         0\n",
       "662 2020-02-27    16            Jeju-do          2         0         0"
      ]
     },
     "execution_count": 193,
     "metadata": {},
     "output_type": "execute_result"
    }
   ],
   "source": [
    "TimeProvince_csv[TimeProvince_csv['date']=='2020-02-27']"
   ]
  },
  {
   "cell_type": "code",
   "execution_count": 197,
   "metadata": {},
   "outputs": [
    {
     "data": {
      "text/plain": [
       "648    1132\n",
       "Name: confirmed, dtype: int64"
      ]
     },
     "execution_count": 197,
     "metadata": {},
     "output_type": "execute_result"
    }
   ],
   "source": [
    "Feb_27=TimeProvince_csv[TimeProvince_csv['date']=='2020-02-27']\n",
    "Feb_27[Feb_27['province']=='Daegu']['confirmed']"
   ]
  },
  {
   "cell_type": "markdown",
   "metadata": {},
   "source": [
    "- Q15: How many were the confirmed cases in Daegu by February 27?: 1132"
   ]
  },
  {
   "cell_type": "code",
   "execution_count": 206,
   "metadata": {},
   "outputs": [
    {
     "data": {
      "image/png": "[encoded data removed]",
      "text/plain": [
       "<Figure size 432x288 with 1 Axes>"
      ]
     },
     "metadata": {
      "needs_background": "light"
     },
     "output_type": "display_data"
    }
   ],
   "source": [
    "daegu=TimeProvince_csv[TimeProvince_csv['province']=='Daegu']\n",
    "plt.plot(daegu['date'],daegu['confirmed'])\n",
    "plt.show()"
   ]
  },
  {
   "cell_type": "markdown",
   "metadata": {},
   "source": [
    "- 4월부터 기울기가 꺽이며 일간 10명대 이하의 confirmed 환자 발생\n",
    "- Q16: Which month did the curve for confirmed cases start flattening in Daegu? (0-Jan, 1-Feb, 2-Mar, 3-Apr, 4-May, 5-Jun): 3"
   ]
  },
  {
   "cell_type": "code",
   "execution_count": 217,
   "metadata": {},
   "outputs": [
    {
     "data": {
      "text/plain": [
       "1836   2020-05-07\n",
       "Name: date, dtype: datetime64[ns]"
      ]
     },
     "execution_count": 217,
     "metadata": {},
     "output_type": "execute_result"
    }
   ],
   "source": [
    "seoul=TimeProvince_csv[TimeProvince_csv['province']=='Seoul']\n",
    "seoul[seoul['released']==508]['date']"
   ]
  },
  {
   "cell_type": "markdown",
   "metadata": {},
   "source": [
    "- Q17: On what day in the month of May has Seoul released a total of 508 patients?: 7"
   ]
  },
  {
   "cell_type": "markdown",
   "metadata": {},
   "source": [
    "# Task 3: Gender"
   ]
  },
  {
   "cell_type": "code",
   "execution_count": 219,
   "metadata": {},
   "outputs": [
    {
     "data": {
      "text/html": [
       "<div>\n",
       "<style scoped>\n",
       "    .dataframe tbody tr th:only-of-type {\n",
       "        vertical-align: middle;\n",
       "    }\n",
       "\n",
       "    .dataframe tbody tr th {\n",
       "        vertical-align: top;\n",
       "    }\n",
       "\n",
       "    .dataframe thead th {\n",
       "        text-align: right;\n",
       "    }\n",
       "</style>\n",
       "<table border=\"1\" class=\"dataframe\">\n",
       "  <thead>\n",
       "    <tr style=\"text-align: right;\">\n",
       "      <th></th>\n",
       "      <th>date</th>\n",
       "      <th>time</th>\n",
       "      <th>sex</th>\n",
       "      <th>confirmed</th>\n",
       "      <th>deceased</th>\n",
       "    </tr>\n",
       "  </thead>\n",
       "  <tbody>\n",
       "    <tr>\n",
       "      <th>0</th>\n",
       "      <td>2020-03-02</td>\n",
       "      <td>0</td>\n",
       "      <td>male</td>\n",
       "      <td>1591</td>\n",
       "      <td>13</td>\n",
       "    </tr>\n",
       "    <tr>\n",
       "      <th>1</th>\n",
       "      <td>2020-03-02</td>\n",
       "      <td>0</td>\n",
       "      <td>female</td>\n",
       "      <td>2621</td>\n",
       "      <td>9</td>\n",
       "    </tr>\n",
       "    <tr>\n",
       "      <th>2</th>\n",
       "      <td>2020-03-03</td>\n",
       "      <td>0</td>\n",
       "      <td>male</td>\n",
       "      <td>1810</td>\n",
       "      <td>16</td>\n",
       "    </tr>\n",
       "    <tr>\n",
       "      <th>3</th>\n",
       "      <td>2020-03-03</td>\n",
       "      <td>0</td>\n",
       "      <td>female</td>\n",
       "      <td>3002</td>\n",
       "      <td>12</td>\n",
       "    </tr>\n",
       "    <tr>\n",
       "      <th>4</th>\n",
       "      <td>2020-03-04</td>\n",
       "      <td>0</td>\n",
       "      <td>male</td>\n",
       "      <td>1996</td>\n",
       "      <td>20</td>\n",
       "    </tr>\n",
       "  </tbody>\n",
       "</table>\n",
       "</div>"
      ],
      "text/plain": [
       "         date  time     sex  confirmed  deceased\n",
       "0  2020-03-02     0    male       1591        13\n",
       "1  2020-03-02     0  female       2621         9\n",
       "2  2020-03-03     0    male       1810        16\n",
       "3  2020-03-03     0  female       3002        12\n",
       "4  2020-03-04     0    male       1996        20"
      ]
     },
     "execution_count": 219,
     "metadata": {},
     "output_type": "execute_result"
    }
   ],
   "source": [
    "Timegender_csv=pd.read_csv('C:/Users/castl/Desktop/데이터 사이언스/TimeGender.csv')\n",
    "Timegender_csv.head(5)"
   ]
  },
  {
   "cell_type": "code",
   "execution_count": 221,
   "metadata": {},
   "outputs": [
    {
     "name": "stdout",
     "output_type": "stream",
     "text": [
      "<class 'pandas.core.frame.DataFrame'>\n",
      "RangeIndex: 242 entries, 0 to 241\n",
      "Data columns (total 5 columns):\n",
      " #   Column     Non-Null Count  Dtype \n",
      "---  ------     --------------  ----- \n",
      " 0   date       242 non-null    object\n",
      " 1   time       242 non-null    int64 \n",
      " 2   sex        242 non-null    object\n",
      " 3   confirmed  242 non-null    int64 \n",
      " 4   deceased   242 non-null    int64 \n",
      "dtypes: int64(3), object(2)\n",
      "memory usage: 9.6+ KB\n"
     ]
    }
   ],
   "source": [
    "Timegender_csv.info()"
   ]
  },
  {
   "cell_type": "code",
   "execution_count": 222,
   "metadata": {},
   "outputs": [],
   "source": [
    "Timegender_csv['date']=pd.to_datetime(Timegender_csv['date'])"
   ]
  },
  {
   "cell_type": "code",
   "execution_count": 226,
   "metadata": {},
   "outputs": [
    {
     "data": {
      "text/html": [
       "<div>\n",
       "<style scoped>\n",
       "    .dataframe tbody tr th:only-of-type {\n",
       "        vertical-align: middle;\n",
       "    }\n",
       "\n",
       "    .dataframe tbody tr th {\n",
       "        vertical-align: top;\n",
       "    }\n",
       "\n",
       "    .dataframe thead th {\n",
       "        text-align: right;\n",
       "    }\n",
       "</style>\n",
       "<table border=\"1\" class=\"dataframe\">\n",
       "  <thead>\n",
       "    <tr style=\"text-align: right;\">\n",
       "      <th></th>\n",
       "      <th>date</th>\n",
       "      <th>time</th>\n",
       "      <th>sex</th>\n",
       "      <th>confirmed</th>\n",
       "      <th>deceased</th>\n",
       "    </tr>\n",
       "  </thead>\n",
       "  <tbody>\n",
       "    <tr>\n",
       "      <th>240</th>\n",
       "      <td>2020-06-30</td>\n",
       "      <td>0</td>\n",
       "      <td>male</td>\n",
       "      <td>5495</td>\n",
       "      <td>151</td>\n",
       "    </tr>\n",
       "    <tr>\n",
       "      <th>241</th>\n",
       "      <td>2020-06-30</td>\n",
       "      <td>0</td>\n",
       "      <td>female</td>\n",
       "      <td>7305</td>\n",
       "      <td>131</td>\n",
       "    </tr>\n",
       "  </tbody>\n",
       "</table>\n",
       "</div>"
      ],
      "text/plain": [
       "          date  time     sex  confirmed  deceased\n",
       "240 2020-06-30     0    male       5495       151\n",
       "241 2020-06-30     0  female       7305       131"
      ]
     },
     "execution_count": 226,
     "metadata": {},
     "output_type": "execute_result"
    }
   ],
   "source": [
    "last_june=Timegender_csv[Timegender_csv['date']=='2020-06-30']\n",
    "last_june"
   ]
  },
  {
   "cell_type": "code",
   "execution_count": 239,
   "metadata": {},
   "outputs": [
    {
     "data": {
      "text/plain": [
       "241    0.57\n",
       "Name: confirmed, dtype: float64"
      ]
     },
     "execution_count": 239,
     "metadata": {},
     "output_type": "execute_result"
    }
   ],
   "source": [
    "female_num=last_june[last_june['sex']=='female']['confirmed']\n",
    "total=last_june['confirmed'].sum()\n",
    "round(female_num/total,2)"
   ]
  },
  {
   "cell_type": "markdown",
   "metadata": {},
   "source": [
    "- Q18: What percentage of the confirmed cases were females by the end of June? (round to the nearest hundredths): 57"
   ]
  },
  {
   "cell_type": "code",
   "execution_count": 242,
   "metadata": {},
   "outputs": [
    {
     "data": {
      "text/plain": [
       "240    0.43\n",
       "Name: confirmed, dtype: float64"
      ]
     },
     "execution_count": 242,
     "metadata": {},
     "output_type": "execute_result"
    }
   ],
   "source": [
    "male_num=last_june[last_june['sex']=='male']['confirmed']\n",
    "total=last_june['confirmed'].sum()\n",
    "round(male_num/total,2)"
   ]
  },
  {
   "cell_type": "markdown",
   "metadata": {},
   "source": [
    "- Q19: What percentage of the confirmed cases were males by the end of June? (round to the nearest hundredths): 43"
   ]
  },
  {
   "cell_type": "code",
   "execution_count": 246,
   "metadata": {},
   "outputs": [
    {
     "data": {
      "text/plain": [
       "241    0.46\n",
       "Name: deceased, dtype: float64"
      ]
     },
     "execution_count": 246,
     "metadata": {},
     "output_type": "execute_result"
    }
   ],
   "source": [
    "f_num=last_june[last_june['sex']=='female']['deceased']\n",
    "total=last_june['deceased'].sum()\n",
    "round(f_num/total,2)"
   ]
  },
  {
   "cell_type": "markdown",
   "metadata": {},
   "source": [
    "- Q20: What percentage of the deceased cases were females by the end of June? (round to the nearest hundredths): 46"
   ]
  },
  {
   "cell_type": "code",
   "execution_count": 248,
   "metadata": {},
   "outputs": [
    {
     "data": {
      "text/plain": [
       "240    0.54\n",
       "Name: deceased, dtype: float64"
      ]
     },
     "execution_count": 248,
     "metadata": {},
     "output_type": "execute_result"
    }
   ],
   "source": [
    "m_num=last_june[last_june['sex']=='male']['deceased']\n",
    "total=last_june['deceased'].sum()\n",
    "round(m_num/total,2)"
   ]
  },
  {
   "cell_type": "markdown",
   "metadata": {},
   "source": [
    "- Q21: What percentage of the deceased cases were males by the end of June? (round to the nearest hundredths): 54"
   ]
  },
  {
   "cell_type": "markdown",
   "metadata": {},
   "source": [
    "# Task 4: Path"
   ]
  },
  {
   "cell_type": "code",
   "execution_count": 265,
   "metadata": {},
   "outputs": [
    {
     "data": {
      "text/html": [
       "<div>\n",
       "<style scoped>\n",
       "    .dataframe tbody tr th:only-of-type {\n",
       "        vertical-align: middle;\n",
       "    }\n",
       "\n",
       "    .dataframe tbody tr th {\n",
       "        vertical-align: top;\n",
       "    }\n",
       "\n",
       "    .dataframe thead th {\n",
       "        text-align: right;\n",
       "    }\n",
       "</style>\n",
       "<table border=\"1\" class=\"dataframe\">\n",
       "  <thead>\n",
       "    <tr style=\"text-align: right;\">\n",
       "      <th></th>\n",
       "      <th>case_id</th>\n",
       "      <th>province</th>\n",
       "      <th>city</th>\n",
       "      <th>group</th>\n",
       "      <th>infection_case</th>\n",
       "      <th>confirmed</th>\n",
       "      <th>latitude</th>\n",
       "      <th>longitude</th>\n",
       "    </tr>\n",
       "  </thead>\n",
       "  <tbody>\n",
       "    <tr>\n",
       "      <th>0</th>\n",
       "      <td>1000001</td>\n",
       "      <td>Seoul</td>\n",
       "      <td>Yongsan-gu</td>\n",
       "      <td>True</td>\n",
       "      <td>Itaewon Clubs</td>\n",
       "      <td>139</td>\n",
       "      <td>37.538621</td>\n",
       "      <td>126.992652</td>\n",
       "    </tr>\n",
       "    <tr>\n",
       "      <th>1</th>\n",
       "      <td>1000002</td>\n",
       "      <td>Seoul</td>\n",
       "      <td>Gwanak-gu</td>\n",
       "      <td>True</td>\n",
       "      <td>Richway</td>\n",
       "      <td>119</td>\n",
       "      <td>37.48208</td>\n",
       "      <td>126.901384</td>\n",
       "    </tr>\n",
       "    <tr>\n",
       "      <th>2</th>\n",
       "      <td>1000003</td>\n",
       "      <td>Seoul</td>\n",
       "      <td>Guro-gu</td>\n",
       "      <td>True</td>\n",
       "      <td>Guro-gu Call Center</td>\n",
       "      <td>95</td>\n",
       "      <td>37.508163</td>\n",
       "      <td>126.884387</td>\n",
       "    </tr>\n",
       "    <tr>\n",
       "      <th>3</th>\n",
       "      <td>1000004</td>\n",
       "      <td>Seoul</td>\n",
       "      <td>Yangcheon-gu</td>\n",
       "      <td>True</td>\n",
       "      <td>Yangcheon Table Tennis Club</td>\n",
       "      <td>43</td>\n",
       "      <td>37.546061</td>\n",
       "      <td>126.874209</td>\n",
       "    </tr>\n",
       "    <tr>\n",
       "      <th>4</th>\n",
       "      <td>1000005</td>\n",
       "      <td>Seoul</td>\n",
       "      <td>Dobong-gu</td>\n",
       "      <td>True</td>\n",
       "      <td>Day Care Center</td>\n",
       "      <td>43</td>\n",
       "      <td>37.679422</td>\n",
       "      <td>127.044374</td>\n",
       "    </tr>\n",
       "  </tbody>\n",
       "</table>\n",
       "</div>"
      ],
      "text/plain": [
       "    case_id province          city  group               infection_case  \\\n",
       "0   1000001    Seoul    Yongsan-gu   True                Itaewon Clubs   \n",
       "1   1000002    Seoul     Gwanak-gu   True                      Richway   \n",
       "2   1000003    Seoul       Guro-gu   True          Guro-gu Call Center   \n",
       "3   1000004    Seoul  Yangcheon-gu   True  Yangcheon Table Tennis Club   \n",
       "4   1000005    Seoul     Dobong-gu   True              Day Care Center   \n",
       "\n",
       "   confirmed   latitude   longitude  \n",
       "0        139  37.538621  126.992652  \n",
       "1        119   37.48208  126.901384  \n",
       "2         95  37.508163  126.884387  \n",
       "3         43  37.546061  126.874209  \n",
       "4         43  37.679422  127.044374  "
      ]
     },
     "execution_count": 265,
     "metadata": {},
     "output_type": "execute_result"
    }
   ],
   "source": [
    "Case_csv=pd.read_csv('C:/Users/castl/Desktop/데이터 사이언스/Case.csv')\n",
    "Case_csv.head(5)"
   ]
  },
  {
   "cell_type": "code",
   "execution_count": 266,
   "metadata": {},
   "outputs": [
    {
     "name": "stdout",
     "output_type": "stream",
     "text": [
      "<class 'pandas.core.frame.DataFrame'>\n",
      "RangeIndex: 174 entries, 0 to 173\n",
      "Data columns (total 8 columns):\n",
      " #   Column          Non-Null Count  Dtype \n",
      "---  ------          --------------  ----- \n",
      " 0    case_id        174 non-null    int64 \n",
      " 1   province        174 non-null    object\n",
      " 2   city            174 non-null    object\n",
      " 3   group           174 non-null    bool  \n",
      " 4   infection_case  174 non-null    object\n",
      " 5   confirmed       174 non-null    int64 \n",
      " 6   latitude        174 non-null    object\n",
      " 7   longitude       174 non-null    object\n",
      "dtypes: bool(1), int64(2), object(5)\n",
      "memory usage: 9.8+ KB\n"
     ]
    }
   ],
   "source": [
    "Case_csv.info()"
   ]
  },
  {
   "cell_type": "code",
   "execution_count": 253,
   "metadata": {},
   "outputs": [
    {
     "data": {
      "text/plain": [
       "array(['Itaewon Clubs', 'Richway', 'Guro-gu Call Center',\n",
       "       'Yangcheon Table Tennis Club', 'Day Care Center',\n",
       "       'Manmin Central Church', 'SMR Newly Planted Churches Group',\n",
       "       'Dongan Church', 'Coupang Logistics Center', 'Wangsung Church',\n",
       "       \"Eunpyeong St. Mary's Hospital\", 'Seongdong-gu APT',\n",
       "       'Jongno Community Center', 'Samsung Medical Center',\n",
       "       'Jung-gu Fashion Company', 'Yeonana News Class',\n",
       "       'Korea Campus Crusade of Christ', 'Gangnam Yeoksam-dong gathering',\n",
       "       'Daejeon door-to-door sales',\n",
       "       'Geumcheon-gu rice milling machine manufacture',\n",
       "       'Shincheonji Church', 'Guri Collective Infection',\n",
       "       'KB Life Insurance', 'Yeongdeungpo Learning Institute',\n",
       "       'Gangnam Dongin Church', 'Biblical Language study meeting',\n",
       "       'Seocho Family', 'Anyang Gunpo Pastors Group',\n",
       "       'Samsung Fire & Marine Insurance', 'SJ Investment Call Center',\n",
       "       'Yongin Brothers', 'Seoul City Hall Station safety worker',\n",
       "       'Uiwang Logistics Center', 'Orange Life', 'Daezayeon Korea',\n",
       "       'overseas inflow', 'contact with patient', 'etc', 'Onchun Church',\n",
       "       'Suyeong-gu Kindergarten', 'Haeundae-gu Catholic Church',\n",
       "       'Jin-gu Academy', 'Cheongdo Daenam Hospital',\n",
       "       'Second Mi-Ju Hospital', 'Hansarang Convalescent Hospital',\n",
       "       'Daesil Convalescent Hospital', 'Fatima Hospital',\n",
       "       'Gwangneuksa Temple', 'Door-to-door sales in Daejeon',\n",
       "       'Dunsan Electronics Town', 'Orange Town', 'Dreaming Church',\n",
       "       'Korea Forest Engineer Institute', 'Seosan-si Laboratory',\n",
       "       'Ministry of Oceans and Fisheries', 'gym facility in Sejong',\n",
       "       'River of Grace Community Church', 'Uijeongbu St. Mary’s Hospital',\n",
       "       'Bundang Jesaeng Hospital', 'Lotte Confectionery logistics center',\n",
       "       'Lord Glory Church', 'Suwon Saeng Myeong Saem Church',\n",
       "       'Seongnam neighbors gathering', 'Wonju-si Apartments',\n",
       "       'Goesan-gun Jangyeon-myeon', 'gym facility in Cheonan',\n",
       "       'Eunpyeong-Boksagol culture center', 'Bonghwa Pureun Nursing Home',\n",
       "       'Gyeongsan Seorin Nursing Home', 'Pilgrimage to Israel',\n",
       "       'Yechun-gun', 'Milal Shelter', 'Gyeongsan Jeil Silver Town',\n",
       "       'Gyeongsan Cham Joeun Community Center', 'Gumi Elim Church',\n",
       "       'Geochang Church', 'Wings Tower', 'Geochang-gun Woongyang-myeon',\n",
       "       'Hanmaeum Changwon Hospital', 'Changnyeong Coin Karaoke',\n",
       "       'Soso Seowon'], dtype=object)"
      ]
     },
     "execution_count": 253,
     "metadata": {},
     "output_type": "execute_result"
    }
   ],
   "source": [
    "Case_csv['infection_case'].unique()"
   ]
  },
  {
   "cell_type": "code",
   "execution_count": 255,
   "metadata": {},
   "outputs": [
    {
     "data": {
      "text/plain": [
       "81"
      ]
     },
     "execution_count": 255,
     "metadata": {},
     "output_type": "execute_result"
    }
   ],
   "source": [
    "len(Case_csv['infection_case'].unique())"
   ]
  },
  {
   "cell_type": "markdown",
   "metadata": {},
   "source": [
    "- Q22: How many unique sources (path) of the confirmed cases were identified?: 81"
   ]
  },
  {
   "cell_type": "code",
   "execution_count": 257,
   "metadata": {},
   "outputs": [
    {
     "data": {
      "text/html": [
       "<div>\n",
       "<style scoped>\n",
       "    .dataframe tbody tr th:only-of-type {\n",
       "        vertical-align: middle;\n",
       "    }\n",
       "\n",
       "    .dataframe tbody tr th {\n",
       "        vertical-align: top;\n",
       "    }\n",
       "\n",
       "    .dataframe thead th {\n",
       "        text-align: right;\n",
       "    }\n",
       "</style>\n",
       "<table border=\"1\" class=\"dataframe\">\n",
       "  <thead>\n",
       "    <tr style=\"text-align: right;\">\n",
       "      <th></th>\n",
       "      <th>case_id</th>\n",
       "      <th>province</th>\n",
       "      <th>city</th>\n",
       "      <th>group</th>\n",
       "      <th>infection_case</th>\n",
       "      <th>confirmed</th>\n",
       "      <th>latitude</th>\n",
       "      <th>longitude</th>\n",
       "    </tr>\n",
       "  </thead>\n",
       "  <tbody>\n",
       "    <tr>\n",
       "      <th>20</th>\n",
       "      <td>1000021</td>\n",
       "      <td>Seoul</td>\n",
       "      <td>from other city</td>\n",
       "      <td>True</td>\n",
       "      <td>Shincheonji Church</td>\n",
       "      <td>8</td>\n",
       "      <td>-</td>\n",
       "      <td>-</td>\n",
       "    </tr>\n",
       "    <tr>\n",
       "      <th>39</th>\n",
       "      <td>1100002</td>\n",
       "      <td>Busan</td>\n",
       "      <td>from other city</td>\n",
       "      <td>True</td>\n",
       "      <td>Shincheonji Church</td>\n",
       "      <td>12</td>\n",
       "      <td>-</td>\n",
       "      <td>-</td>\n",
       "    </tr>\n",
       "    <tr>\n",
       "      <th>48</th>\n",
       "      <td>1200001</td>\n",
       "      <td>Daegu</td>\n",
       "      <td>Nam-gu</td>\n",
       "      <td>True</td>\n",
       "      <td>Shincheonji Church</td>\n",
       "      <td>4511</td>\n",
       "      <td>35.84008</td>\n",
       "      <td>128.5667</td>\n",
       "    </tr>\n",
       "    <tr>\n",
       "      <th>59</th>\n",
       "      <td>1300002</td>\n",
       "      <td>Gwangju</td>\n",
       "      <td>from other city</td>\n",
       "      <td>True</td>\n",
       "      <td>Shincheonji Church</td>\n",
       "      <td>9</td>\n",
       "      <td>-</td>\n",
       "      <td>-</td>\n",
       "    </tr>\n",
       "    <tr>\n",
       "      <th>66</th>\n",
       "      <td>1400004</td>\n",
       "      <td>Incheon</td>\n",
       "      <td>from other city</td>\n",
       "      <td>True</td>\n",
       "      <td>Shincheonji Church</td>\n",
       "      <td>2</td>\n",
       "      <td>-</td>\n",
       "      <td>-</td>\n",
       "    </tr>\n",
       "    <tr>\n",
       "      <th>75</th>\n",
       "      <td>1500006</td>\n",
       "      <td>Daejeon</td>\n",
       "      <td>from other city</td>\n",
       "      <td>True</td>\n",
       "      <td>Shincheonji Church</td>\n",
       "      <td>2</td>\n",
       "      <td>-</td>\n",
       "      <td>-</td>\n",
       "    </tr>\n",
       "    <tr>\n",
       "      <th>80</th>\n",
       "      <td>1600001</td>\n",
       "      <td>Ulsan</td>\n",
       "      <td>from other city</td>\n",
       "      <td>True</td>\n",
       "      <td>Shincheonji Church</td>\n",
       "      <td>16</td>\n",
       "      <td>-</td>\n",
       "      <td>-</td>\n",
       "    </tr>\n",
       "    <tr>\n",
       "      <th>86</th>\n",
       "      <td>1700003</td>\n",
       "      <td>Sejong</td>\n",
       "      <td>from other city</td>\n",
       "      <td>True</td>\n",
       "      <td>Shincheonji Church</td>\n",
       "      <td>1</td>\n",
       "      <td>-</td>\n",
       "      <td>-</td>\n",
       "    </tr>\n",
       "    <tr>\n",
       "      <th>96</th>\n",
       "      <td>2000007</td>\n",
       "      <td>Gyeonggi-do</td>\n",
       "      <td>from other city</td>\n",
       "      <td>True</td>\n",
       "      <td>Shincheonji Church</td>\n",
       "      <td>29</td>\n",
       "      <td>-</td>\n",
       "      <td>-</td>\n",
       "    </tr>\n",
       "    <tr>\n",
       "      <th>112</th>\n",
       "      <td>3000001</td>\n",
       "      <td>Gangwon-do</td>\n",
       "      <td>from other city</td>\n",
       "      <td>True</td>\n",
       "      <td>Shincheonji Church</td>\n",
       "      <td>17</td>\n",
       "      <td>-</td>\n",
       "      <td>-</td>\n",
       "    </tr>\n",
       "    <tr>\n",
       "      <th>123</th>\n",
       "      <td>4000004</td>\n",
       "      <td>Chungcheongbuk-do</td>\n",
       "      <td>from other city</td>\n",
       "      <td>True</td>\n",
       "      <td>Shincheonji Church</td>\n",
       "      <td>6</td>\n",
       "      <td>-</td>\n",
       "      <td>-</td>\n",
       "    </tr>\n",
       "    <tr>\n",
       "      <th>137</th>\n",
       "      <td>5000003</td>\n",
       "      <td>Jeollabuk-do</td>\n",
       "      <td>from other city</td>\n",
       "      <td>True</td>\n",
       "      <td>Shincheonji Church</td>\n",
       "      <td>1</td>\n",
       "      <td>-</td>\n",
       "      <td>-</td>\n",
       "    </tr>\n",
       "    <tr>\n",
       "      <th>141</th>\n",
       "      <td>5100002</td>\n",
       "      <td>Jeollanam-do</td>\n",
       "      <td>from other city</td>\n",
       "      <td>True</td>\n",
       "      <td>Shincheonji Church</td>\n",
       "      <td>1</td>\n",
       "      <td>-</td>\n",
       "      <td>-</td>\n",
       "    </tr>\n",
       "    <tr>\n",
       "      <th>145</th>\n",
       "      <td>6000001</td>\n",
       "      <td>Gyeongsangbuk-do</td>\n",
       "      <td>from other city</td>\n",
       "      <td>True</td>\n",
       "      <td>Shincheonji Church</td>\n",
       "      <td>566</td>\n",
       "      <td>-</td>\n",
       "      <td>-</td>\n",
       "    </tr>\n",
       "    <tr>\n",
       "      <th>158</th>\n",
       "      <td>6100001</td>\n",
       "      <td>Gyeongsangnam-do</td>\n",
       "      <td>from other city</td>\n",
       "      <td>True</td>\n",
       "      <td>Shincheonji Church</td>\n",
       "      <td>32</td>\n",
       "      <td>-</td>\n",
       "      <td>-</td>\n",
       "    </tr>\n",
       "  </tbody>\n",
       "</table>\n",
       "</div>"
      ],
      "text/plain": [
       "      case_id           province             city  group      infection_case  \\\n",
       "20    1000021              Seoul  from other city   True  Shincheonji Church   \n",
       "39    1100002              Busan  from other city   True  Shincheonji Church   \n",
       "48    1200001              Daegu           Nam-gu   True  Shincheonji Church   \n",
       "59    1300002            Gwangju  from other city   True  Shincheonji Church   \n",
       "66    1400004            Incheon  from other city   True  Shincheonji Church   \n",
       "75    1500006            Daejeon  from other city   True  Shincheonji Church   \n",
       "80    1600001              Ulsan  from other city   True  Shincheonji Church   \n",
       "86    1700003             Sejong  from other city   True  Shincheonji Church   \n",
       "96    2000007        Gyeonggi-do  from other city   True  Shincheonji Church   \n",
       "112   3000001         Gangwon-do  from other city   True  Shincheonji Church   \n",
       "123   4000004  Chungcheongbuk-do  from other city   True  Shincheonji Church   \n",
       "137   5000003       Jeollabuk-do  from other city   True  Shincheonji Church   \n",
       "141   5100002       Jeollanam-do  from other city   True  Shincheonji Church   \n",
       "145   6000001   Gyeongsangbuk-do  from other city   True  Shincheonji Church   \n",
       "158   6100001   Gyeongsangnam-do  from other city   True  Shincheonji Church   \n",
       "\n",
       "     confirmed  latitude longitude  \n",
       "20           8         -         -  \n",
       "39          12         -         -  \n",
       "48        4511  35.84008  128.5667  \n",
       "59           9         -         -  \n",
       "66           2         -         -  \n",
       "75           2         -         -  \n",
       "80          16         -         -  \n",
       "86           1         -         -  \n",
       "96          29         -         -  \n",
       "112         17         -         -  \n",
       "123          6         -         -  \n",
       "137          1         -         -  \n",
       "141          1         -         -  \n",
       "145        566         -         -  \n",
       "158         32         -         -  "
      ]
     },
     "execution_count": 257,
     "metadata": {},
     "output_type": "execute_result"
    }
   ],
   "source": [
    "Case_csv[Case_csv['infection_case']=='Shincheonji Church']"
   ]
  },
  {
   "cell_type": "code",
   "execution_count": 259,
   "metadata": {},
   "outputs": [
    {
     "data": {
      "text/plain": [
       "48    0.4\n",
       "Name: confirmed, dtype: float64"
      ]
     },
     "execution_count": 259,
     "metadata": {},
     "output_type": "execute_result"
    }
   ],
   "source": [
    "s_church=Case_csv[Case_csv['infection_case']=='Shincheonji Church']\n",
    "daegu_s_church=s_church[s_church['province']=='Daegu']['confirmed']\n",
    "all=Case_csv['confirmed'].sum()\n",
    "round(daegu_s_church/all,2)"
   ]
  },
  {
   "cell_type": "markdown",
   "metadata": {},
   "source": [
    "- Q23: What percentage of the confirmed cases by the end of June is attributed to Shincheonji Church in Daegu? (round to the nearest hundredths): 40"
   ]
  },
  {
   "cell_type": "code",
   "execution_count": 262,
   "metadata": {},
   "outputs": [
    {
     "data": {
      "text/plain": [
       "35    0.03\n",
       "Name: confirmed, dtype: float64"
      ]
     },
     "execution_count": 262,
     "metadata": {},
     "output_type": "execute_result"
    }
   ],
   "source": [
    "oversea=Case_csv[Case_csv['infection_case']=='overseas inflow']\n",
    "seoul_oversea=oversea[oversea['province']=='Seoul']['confirmed']\n",
    "all=Case_csv['confirmed'].sum()\n",
    "round(seoul_oversea/all,2)"
   ]
  },
  {
   "cell_type": "markdown",
   "metadata": {},
   "source": [
    "- Q24: What percentage of the confirmed cases by the end of June is attributed to Overseas Inflow in Seoul? (round to the nearest hundredths): 3"
   ]
  },
  {
   "cell_type": "code",
   "execution_count": 264,
   "metadata": {},
   "outputs": [
    {
     "data": {
      "text/plain": [
       "array([ True, False])"
      ]
     },
     "execution_count": 264,
     "metadata": {},
     "output_type": "execute_result"
    }
   ],
   "source": [
    "Case_csv['group'].unique()"
   ]
  },
  {
   "cell_type": "code",
   "execution_count": 270,
   "metadata": {},
   "outputs": [
    {
     "data": {
      "text/html": [
       "<div>\n",
       "<style scoped>\n",
       "    .dataframe tbody tr th:only-of-type {\n",
       "        vertical-align: middle;\n",
       "    }\n",
       "\n",
       "    .dataframe tbody tr th {\n",
       "        vertical-align: top;\n",
       "    }\n",
       "\n",
       "    .dataframe thead th {\n",
       "        text-align: right;\n",
       "    }\n",
       "</style>\n",
       "<table border=\"1\" class=\"dataframe\">\n",
       "  <thead>\n",
       "    <tr style=\"text-align: right;\">\n",
       "      <th></th>\n",
       "      <th>case_id</th>\n",
       "      <th>province</th>\n",
       "      <th>city</th>\n",
       "      <th>group</th>\n",
       "      <th>infection_case</th>\n",
       "      <th>confirmed</th>\n",
       "      <th>latitude</th>\n",
       "      <th>longitude</th>\n",
       "    </tr>\n",
       "  </thead>\n",
       "  <tbody>\n",
       "    <tr>\n",
       "      <th>0</th>\n",
       "      <td>1000001</td>\n",
       "      <td>Seoul</td>\n",
       "      <td>Yongsan-gu</td>\n",
       "      <td>True</td>\n",
       "      <td>Itaewon Clubs</td>\n",
       "      <td>139</td>\n",
       "      <td>37.538621</td>\n",
       "      <td>126.992652</td>\n",
       "    </tr>\n",
       "    <tr>\n",
       "      <th>1</th>\n",
       "      <td>1000002</td>\n",
       "      <td>Seoul</td>\n",
       "      <td>Gwanak-gu</td>\n",
       "      <td>True</td>\n",
       "      <td>Richway</td>\n",
       "      <td>119</td>\n",
       "      <td>37.48208</td>\n",
       "      <td>126.901384</td>\n",
       "    </tr>\n",
       "    <tr>\n",
       "      <th>2</th>\n",
       "      <td>1000003</td>\n",
       "      <td>Seoul</td>\n",
       "      <td>Guro-gu</td>\n",
       "      <td>True</td>\n",
       "      <td>Guro-gu Call Center</td>\n",
       "      <td>95</td>\n",
       "      <td>37.508163</td>\n",
       "      <td>126.884387</td>\n",
       "    </tr>\n",
       "    <tr>\n",
       "      <th>3</th>\n",
       "      <td>1000004</td>\n",
       "      <td>Seoul</td>\n",
       "      <td>Yangcheon-gu</td>\n",
       "      <td>True</td>\n",
       "      <td>Yangcheon Table Tennis Club</td>\n",
       "      <td>43</td>\n",
       "      <td>37.546061</td>\n",
       "      <td>126.874209</td>\n",
       "    </tr>\n",
       "    <tr>\n",
       "      <th>4</th>\n",
       "      <td>1000005</td>\n",
       "      <td>Seoul</td>\n",
       "      <td>Dobong-gu</td>\n",
       "      <td>True</td>\n",
       "      <td>Day Care Center</td>\n",
       "      <td>43</td>\n",
       "      <td>37.679422</td>\n",
       "      <td>127.044374</td>\n",
       "    </tr>\n",
       "    <tr>\n",
       "      <th>...</th>\n",
       "      <td>...</td>\n",
       "      <td>...</td>\n",
       "      <td>...</td>\n",
       "      <td>...</td>\n",
       "      <td>...</td>\n",
       "      <td>...</td>\n",
       "      <td>...</td>\n",
       "      <td>...</td>\n",
       "    </tr>\n",
       "    <tr>\n",
       "      <th>163</th>\n",
       "      <td>6100006</td>\n",
       "      <td>Gyeongsangnam-do</td>\n",
       "      <td>Changnyeong-gun</td>\n",
       "      <td>True</td>\n",
       "      <td>Changnyeong Coin Karaoke</td>\n",
       "      <td>7</td>\n",
       "      <td>35.54127</td>\n",
       "      <td>128.5008</td>\n",
       "    </tr>\n",
       "    <tr>\n",
       "      <th>164</th>\n",
       "      <td>6100007</td>\n",
       "      <td>Gyeongsangnam-do</td>\n",
       "      <td>Yangsan-si</td>\n",
       "      <td>True</td>\n",
       "      <td>Soso Seowon</td>\n",
       "      <td>3</td>\n",
       "      <td>35.338811</td>\n",
       "      <td>129.017508</td>\n",
       "    </tr>\n",
       "    <tr>\n",
       "      <th>165</th>\n",
       "      <td>6100008</td>\n",
       "      <td>Gyeongsangnam-do</td>\n",
       "      <td>from other city</td>\n",
       "      <td>True</td>\n",
       "      <td>Itaewon Clubs</td>\n",
       "      <td>2</td>\n",
       "      <td>-</td>\n",
       "      <td>-</td>\n",
       "    </tr>\n",
       "    <tr>\n",
       "      <th>166</th>\n",
       "      <td>6100009</td>\n",
       "      <td>Gyeongsangnam-do</td>\n",
       "      <td>from other city</td>\n",
       "      <td>True</td>\n",
       "      <td>Onchun Church</td>\n",
       "      <td>2</td>\n",
       "      <td>-</td>\n",
       "      <td>-</td>\n",
       "    </tr>\n",
       "    <tr>\n",
       "      <th>173</th>\n",
       "      <td>7000004</td>\n",
       "      <td>Jeju-do</td>\n",
       "      <td>from other city</td>\n",
       "      <td>True</td>\n",
       "      <td>Itaewon Clubs</td>\n",
       "      <td>1</td>\n",
       "      <td>-</td>\n",
       "      <td>-</td>\n",
       "    </tr>\n",
       "  </tbody>\n",
       "</table>\n",
       "<p>124 rows × 8 columns</p>\n",
       "</div>"
      ],
      "text/plain": [
       "      case_id          province             city  group  \\\n",
       "0     1000001             Seoul       Yongsan-gu   True   \n",
       "1     1000002             Seoul        Gwanak-gu   True   \n",
       "2     1000003             Seoul          Guro-gu   True   \n",
       "3     1000004             Seoul     Yangcheon-gu   True   \n",
       "4     1000005             Seoul        Dobong-gu   True   \n",
       "..        ...               ...              ...    ...   \n",
       "163   6100006  Gyeongsangnam-do  Changnyeong-gun   True   \n",
       "164   6100007  Gyeongsangnam-do       Yangsan-si   True   \n",
       "165   6100008  Gyeongsangnam-do  from other city   True   \n",
       "166   6100009  Gyeongsangnam-do  from other city   True   \n",
       "173   7000004           Jeju-do  from other city   True   \n",
       "\n",
       "                  infection_case  confirmed   latitude   longitude  \n",
       "0                  Itaewon Clubs        139  37.538621  126.992652  \n",
       "1                        Richway        119   37.48208  126.901384  \n",
       "2            Guro-gu Call Center         95  37.508163  126.884387  \n",
       "3    Yangcheon Table Tennis Club         43  37.546061  126.874209  \n",
       "4                Day Care Center         43  37.679422  127.044374  \n",
       "..                           ...        ...        ...         ...  \n",
       "163     Changnyeong Coin Karaoke          7   35.54127    128.5008  \n",
       "164                  Soso Seowon          3  35.338811  129.017508  \n",
       "165                Itaewon Clubs          2          -           -  \n",
       "166                Onchun Church          2          -           -  \n",
       "173                Itaewon Clubs          1          -           -  \n",
       "\n",
       "[124 rows x 8 columns]"
      ]
     },
     "execution_count": 270,
     "metadata": {},
     "output_type": "execute_result"
    }
   ],
   "source": [
    "Case_csv[Case_csv['group']==True]"
   ]
  },
  {
   "cell_type": "code",
   "execution_count": 279,
   "metadata": {},
   "outputs": [
    {
     "data": {
      "text/plain": [
       "124"
      ]
     },
     "execution_count": 279,
     "metadata": {},
     "output_type": "execute_result"
    }
   ],
   "source": [
    "true=len(Case_csv[Case_csv['group']==True])\n",
    "true"
   ]
  },
  {
   "cell_type": "code",
   "execution_count": 281,
   "metadata": {},
   "outputs": [
    {
     "data": {
      "text/plain": [
       "0.71"
      ]
     },
     "execution_count": 281,
     "metadata": {},
     "output_type": "execute_result"
    }
   ],
   "source": [
    "tot=len(Case_csv)\n",
    "round(true/tot,2)"
   ]
  },
  {
   "cell_type": "markdown",
   "metadata": {},
   "source": [
    "- Q25: What percentage of the confirmed cases by the end of June is transmitted through group contact? (round to the nearest hundredths): 71"
   ]
  },
  {
   "cell_type": "code",
   "execution_count": 282,
   "metadata": {},
   "outputs": [
    {
     "data": {
      "text/plain": [
       "50"
      ]
     },
     "execution_count": 282,
     "metadata": {},
     "output_type": "execute_result"
    }
   ],
   "source": [
    "false=len(Case_csv[Case_csv['group']==False])\n",
    "false"
   ]
  },
  {
   "cell_type": "code",
   "execution_count": 283,
   "metadata": {},
   "outputs": [
    {
     "data": {
      "text/plain": [
       "0.29"
      ]
     },
     "execution_count": 283,
     "metadata": {},
     "output_type": "execute_result"
    }
   ],
   "source": [
    "tot=len(Case_csv)\n",
    "round(false/tot,2)"
   ]
  },
  {
   "cell_type": "markdown",
   "metadata": {},
   "source": [
    "- Q26: How many cases by the end of June are transmitted by individual contact?: 29"
   ]
  },
  {
   "cell_type": "markdown",
   "metadata": {},
   "source": [
    "# Task 5: Weather"
   ]
  },
  {
   "cell_type": "code",
   "execution_count": 379,
   "metadata": {},
   "outputs": [
    {
     "data": {
      "text/html": [
       "<div>\n",
       "<style scoped>\n",
       "    .dataframe tbody tr th:only-of-type {\n",
       "        vertical-align: middle;\n",
       "    }\n",
       "\n",
       "    .dataframe tbody tr th {\n",
       "        vertical-align: top;\n",
       "    }\n",
       "\n",
       "    .dataframe thead th {\n",
       "        text-align: right;\n",
       "    }\n",
       "</style>\n",
       "<table border=\"1\" class=\"dataframe\">\n",
       "  <thead>\n",
       "    <tr style=\"text-align: right;\">\n",
       "      <th></th>\n",
       "      <th>code</th>\n",
       "      <th>province</th>\n",
       "      <th>date</th>\n",
       "      <th>avg_temp</th>\n",
       "      <th>min_temp</th>\n",
       "      <th>max_temp</th>\n",
       "      <th>precipitation</th>\n",
       "      <th>max_wind_speed</th>\n",
       "      <th>most_wind_direction</th>\n",
       "      <th>avg_relative_humidity</th>\n",
       "    </tr>\n",
       "  </thead>\n",
       "  <tbody>\n",
       "    <tr>\n",
       "      <th>0</th>\n",
       "      <td>10000</td>\n",
       "      <td>Seoul</td>\n",
       "      <td>2016-01-01</td>\n",
       "      <td>1.2</td>\n",
       "      <td>-3.3</td>\n",
       "      <td>4.0</td>\n",
       "      <td>0.0</td>\n",
       "      <td>3.5</td>\n",
       "      <td>90.0</td>\n",
       "      <td>73.0</td>\n",
       "    </tr>\n",
       "    <tr>\n",
       "      <th>1</th>\n",
       "      <td>11000</td>\n",
       "      <td>Busan</td>\n",
       "      <td>2016-01-01</td>\n",
       "      <td>5.3</td>\n",
       "      <td>1.1</td>\n",
       "      <td>10.9</td>\n",
       "      <td>0.0</td>\n",
       "      <td>7.4</td>\n",
       "      <td>340.0</td>\n",
       "      <td>52.1</td>\n",
       "    </tr>\n",
       "    <tr>\n",
       "      <th>2</th>\n",
       "      <td>12000</td>\n",
       "      <td>Daegu</td>\n",
       "      <td>2016-01-01</td>\n",
       "      <td>1.7</td>\n",
       "      <td>-4.0</td>\n",
       "      <td>8.0</td>\n",
       "      <td>0.0</td>\n",
       "      <td>3.7</td>\n",
       "      <td>270.0</td>\n",
       "      <td>70.5</td>\n",
       "    </tr>\n",
       "    <tr>\n",
       "      <th>3</th>\n",
       "      <td>13000</td>\n",
       "      <td>Gwangju</td>\n",
       "      <td>2016-01-01</td>\n",
       "      <td>3.2</td>\n",
       "      <td>-1.5</td>\n",
       "      <td>8.1</td>\n",
       "      <td>0.0</td>\n",
       "      <td>2.7</td>\n",
       "      <td>230.0</td>\n",
       "      <td>73.1</td>\n",
       "    </tr>\n",
       "    <tr>\n",
       "      <th>4</th>\n",
       "      <td>14000</td>\n",
       "      <td>Incheon</td>\n",
       "      <td>2016-01-01</td>\n",
       "      <td>3.1</td>\n",
       "      <td>-0.4</td>\n",
       "      <td>5.7</td>\n",
       "      <td>0.0</td>\n",
       "      <td>5.3</td>\n",
       "      <td>180.0</td>\n",
       "      <td>83.9</td>\n",
       "    </tr>\n",
       "  </tbody>\n",
       "</table>\n",
       "</div>"
      ],
      "text/plain": [
       "    code province        date  avg_temp  min_temp  max_temp  precipitation  \\\n",
       "0  10000    Seoul  2016-01-01       1.2      -3.3       4.0            0.0   \n",
       "1  11000    Busan  2016-01-01       5.3       1.1      10.9            0.0   \n",
       "2  12000    Daegu  2016-01-01       1.7      -4.0       8.0            0.0   \n",
       "3  13000  Gwangju  2016-01-01       3.2      -1.5       8.1            0.0   \n",
       "4  14000  Incheon  2016-01-01       3.1      -0.4       5.7            0.0   \n",
       "\n",
       "   max_wind_speed  most_wind_direction  avg_relative_humidity  \n",
       "0             3.5                 90.0                   73.0  \n",
       "1             7.4                340.0                   52.1  \n",
       "2             3.7                270.0                   70.5  \n",
       "3             2.7                230.0                   73.1  \n",
       "4             5.3                180.0                   83.9  "
      ]
     },
     "execution_count": 379,
     "metadata": {},
     "output_type": "execute_result"
    }
   ],
   "source": [
    "Weather_csv=pd.read_csv('C:/Users/castl/Desktop/데이터 사이언스/Weather.csv')\n",
    "Weather_csv.head(5)"
   ]
  },
  {
   "cell_type": "code",
   "execution_count": 380,
   "metadata": {},
   "outputs": [
    {
     "name": "stdout",
     "output_type": "stream",
     "text": [
      "<class 'pandas.core.frame.DataFrame'>\n",
      "RangeIndex: 26271 entries, 0 to 26270\n",
      "Data columns (total 10 columns):\n",
      " #   Column                 Non-Null Count  Dtype  \n",
      "---  ------                 --------------  -----  \n",
      " 0   code                   26271 non-null  int64  \n",
      " 1   province               26271 non-null  object \n",
      " 2   date                   26271 non-null  object \n",
      " 3   avg_temp               26256 non-null  float64\n",
      " 4   min_temp               26266 non-null  float64\n",
      " 5   max_temp               26268 non-null  float64\n",
      " 6   precipitation          26271 non-null  float64\n",
      " 7   max_wind_speed         26262 non-null  float64\n",
      " 8   most_wind_direction    26242 non-null  float64\n",
      " 9   avg_relative_humidity  26251 non-null  float64\n",
      "dtypes: float64(7), int64(1), object(2)\n",
      "memory usage: 2.0+ MB\n"
     ]
    }
   ],
   "source": [
    "Weather_csv.info()"
   ]
  },
  {
   "cell_type": "code",
   "execution_count": 381,
   "metadata": {},
   "outputs": [
    {
     "data": {
      "text/plain": [
       "code                      0\n",
       "province                  0\n",
       "date                      0\n",
       "avg_temp                 15\n",
       "min_temp                  5\n",
       "max_temp                  3\n",
       "precipitation             0\n",
       "max_wind_speed            9\n",
       "most_wind_direction      29\n",
       "avg_relative_humidity    20\n",
       "dtype: int64"
      ]
     },
     "execution_count": 381,
     "metadata": {},
     "output_type": "execute_result"
    }
   ],
   "source": [
    "Weather_csv.isna().sum()"
   ]
  },
  {
   "cell_type": "code",
   "execution_count": 382,
   "metadata": {},
   "outputs": [
    {
     "data": {
      "text/plain": [
       "81"
      ]
     },
     "execution_count": 382,
     "metadata": {},
     "output_type": "execute_result"
    }
   ],
   "source": [
    "Weather_csv.isna().sum().sum()"
   ]
  },
  {
   "cell_type": "markdown",
   "metadata": {},
   "source": [
    "- Q27 How many cells have missing values (Null/NaN)?: 81"
   ]
  },
  {
   "cell_type": "code",
   "execution_count": 383,
   "metadata": {},
   "outputs": [
    {
     "data": {
      "text/html": [
       "<div>\n",
       "<style scoped>\n",
       "    .dataframe tbody tr th:only-of-type {\n",
       "        vertical-align: middle;\n",
       "    }\n",
       "\n",
       "    .dataframe tbody tr th {\n",
       "        vertical-align: top;\n",
       "    }\n",
       "\n",
       "    .dataframe thead th {\n",
       "        text-align: right;\n",
       "    }\n",
       "</style>\n",
       "<table border=\"1\" class=\"dataframe\">\n",
       "  <thead>\n",
       "    <tr style=\"text-align: right;\">\n",
       "      <th></th>\n",
       "      <th>code</th>\n",
       "      <th>province</th>\n",
       "      <th>date</th>\n",
       "      <th>avg_temp</th>\n",
       "      <th>min_temp</th>\n",
       "      <th>max_temp</th>\n",
       "      <th>precipitation</th>\n",
       "      <th>max_wind_speed</th>\n",
       "      <th>most_wind_direction</th>\n",
       "      <th>avg_relative_humidity</th>\n",
       "    </tr>\n",
       "  </thead>\n",
       "  <tbody>\n",
       "    <tr>\n",
       "      <th>0</th>\n",
       "      <td>10000</td>\n",
       "      <td>Seoul</td>\n",
       "      <td>2016-01-01</td>\n",
       "      <td>1.2</td>\n",
       "      <td>-3.3</td>\n",
       "      <td>4.0</td>\n",
       "      <td>0.0</td>\n",
       "      <td>3.5</td>\n",
       "      <td>90.0</td>\n",
       "      <td>73.0</td>\n",
       "    </tr>\n",
       "    <tr>\n",
       "      <th>1</th>\n",
       "      <td>11000</td>\n",
       "      <td>Busan</td>\n",
       "      <td>2016-01-01</td>\n",
       "      <td>5.3</td>\n",
       "      <td>1.1</td>\n",
       "      <td>10.9</td>\n",
       "      <td>0.0</td>\n",
       "      <td>7.4</td>\n",
       "      <td>340.0</td>\n",
       "      <td>52.1</td>\n",
       "    </tr>\n",
       "    <tr>\n",
       "      <th>2</th>\n",
       "      <td>12000</td>\n",
       "      <td>Daegu</td>\n",
       "      <td>2016-01-01</td>\n",
       "      <td>1.7</td>\n",
       "      <td>-4.0</td>\n",
       "      <td>8.0</td>\n",
       "      <td>0.0</td>\n",
       "      <td>3.7</td>\n",
       "      <td>270.0</td>\n",
       "      <td>70.5</td>\n",
       "    </tr>\n",
       "    <tr>\n",
       "      <th>3</th>\n",
       "      <td>13000</td>\n",
       "      <td>Gwangju</td>\n",
       "      <td>2016-01-01</td>\n",
       "      <td>3.2</td>\n",
       "      <td>-1.5</td>\n",
       "      <td>8.1</td>\n",
       "      <td>0.0</td>\n",
       "      <td>2.7</td>\n",
       "      <td>230.0</td>\n",
       "      <td>73.1</td>\n",
       "    </tr>\n",
       "    <tr>\n",
       "      <th>4</th>\n",
       "      <td>14000</td>\n",
       "      <td>Incheon</td>\n",
       "      <td>2016-01-01</td>\n",
       "      <td>3.1</td>\n",
       "      <td>-0.4</td>\n",
       "      <td>5.7</td>\n",
       "      <td>0.0</td>\n",
       "      <td>5.3</td>\n",
       "      <td>180.0</td>\n",
       "      <td>83.9</td>\n",
       "    </tr>\n",
       "    <tr>\n",
       "      <th>...</th>\n",
       "      <td>...</td>\n",
       "      <td>...</td>\n",
       "      <td>...</td>\n",
       "      <td>...</td>\n",
       "      <td>...</td>\n",
       "      <td>...</td>\n",
       "      <td>...</td>\n",
       "      <td>...</td>\n",
       "      <td>...</td>\n",
       "      <td>...</td>\n",
       "    </tr>\n",
       "    <tr>\n",
       "      <th>26266</th>\n",
       "      <td>50000</td>\n",
       "      <td>Jeollabuk-do</td>\n",
       "      <td>2020-06-29</td>\n",
       "      <td>22.0</td>\n",
       "      <td>19.7</td>\n",
       "      <td>26.5</td>\n",
       "      <td>27.6</td>\n",
       "      <td>4.4</td>\n",
       "      <td>90.0</td>\n",
       "      <td>85.1</td>\n",
       "    </tr>\n",
       "    <tr>\n",
       "      <th>26267</th>\n",
       "      <td>51000</td>\n",
       "      <td>Jeollanam-do</td>\n",
       "      <td>2020-06-29</td>\n",
       "      <td>21.9</td>\n",
       "      <td>20.0</td>\n",
       "      <td>24.0</td>\n",
       "      <td>80.5</td>\n",
       "      <td>16.8</td>\n",
       "      <td>90.0</td>\n",
       "      <td>97.9</td>\n",
       "    </tr>\n",
       "    <tr>\n",
       "      <th>26268</th>\n",
       "      <td>60000</td>\n",
       "      <td>Gyeongsangbuk-do</td>\n",
       "      <td>2020-06-29</td>\n",
       "      <td>20.4</td>\n",
       "      <td>17.4</td>\n",
       "      <td>24.5</td>\n",
       "      <td>43.9</td>\n",
       "      <td>4.5</td>\n",
       "      <td>160.0</td>\n",
       "      <td>90.9</td>\n",
       "    </tr>\n",
       "    <tr>\n",
       "      <th>26269</th>\n",
       "      <td>61000</td>\n",
       "      <td>Gyeongsangnam-do</td>\n",
       "      <td>2020-06-29</td>\n",
       "      <td>21.9</td>\n",
       "      <td>18.8</td>\n",
       "      <td>25.5</td>\n",
       "      <td>98.9</td>\n",
       "      <td>5.8</td>\n",
       "      <td>160.0</td>\n",
       "      <td>85.0</td>\n",
       "    </tr>\n",
       "    <tr>\n",
       "      <th>26270</th>\n",
       "      <td>70000</td>\n",
       "      <td>Jeju-do</td>\n",
       "      <td>2020-06-29</td>\n",
       "      <td>23.2</td>\n",
       "      <td>19.1</td>\n",
       "      <td>27.6</td>\n",
       "      <td>25.1</td>\n",
       "      <td>12.8</td>\n",
       "      <td>270.0</td>\n",
       "      <td>87.4</td>\n",
       "    </tr>\n",
       "  </tbody>\n",
       "</table>\n",
       "<p>26224 rows × 10 columns</p>\n",
       "</div>"
      ],
      "text/plain": [
       "        code          province        date  avg_temp  min_temp  max_temp  \\\n",
       "0      10000             Seoul  2016-01-01       1.2      -3.3       4.0   \n",
       "1      11000             Busan  2016-01-01       5.3       1.1      10.9   \n",
       "2      12000             Daegu  2016-01-01       1.7      -4.0       8.0   \n",
       "3      13000           Gwangju  2016-01-01       3.2      -1.5       8.1   \n",
       "4      14000           Incheon  2016-01-01       3.1      -0.4       5.7   \n",
       "...      ...               ...         ...       ...       ...       ...   \n",
       "26266  50000      Jeollabuk-do  2020-06-29      22.0      19.7      26.5   \n",
       "26267  51000      Jeollanam-do  2020-06-29      21.9      20.0      24.0   \n",
       "26268  60000  Gyeongsangbuk-do  2020-06-29      20.4      17.4      24.5   \n",
       "26269  61000  Gyeongsangnam-do  2020-06-29      21.9      18.8      25.5   \n",
       "26270  70000           Jeju-do  2020-06-29      23.2      19.1      27.6   \n",
       "\n",
       "       precipitation  max_wind_speed  most_wind_direction  \\\n",
       "0                0.0             3.5                 90.0   \n",
       "1                0.0             7.4                340.0   \n",
       "2                0.0             3.7                270.0   \n",
       "3                0.0             2.7                230.0   \n",
       "4                0.0             5.3                180.0   \n",
       "...              ...             ...                  ...   \n",
       "26266           27.6             4.4                 90.0   \n",
       "26267           80.5            16.8                 90.0   \n",
       "26268           43.9             4.5                160.0   \n",
       "26269           98.9             5.8                160.0   \n",
       "26270           25.1            12.8                270.0   \n",
       "\n",
       "       avg_relative_humidity  \n",
       "0                       73.0  \n",
       "1                       52.1  \n",
       "2                       70.5  \n",
       "3                       73.1  \n",
       "4                       83.9  \n",
       "...                      ...  \n",
       "26266                   85.1  \n",
       "26267                   97.9  \n",
       "26268                   90.9  \n",
       "26269                   85.0  \n",
       "26270                   87.4  \n",
       "\n",
       "[26224 rows x 10 columns]"
      ]
     },
     "execution_count": 383,
     "metadata": {},
     "output_type": "execute_result"
    }
   ],
   "source": [
    "Weather_csv.dropna(axis=0,how='any')"
   ]
  },
  {
   "cell_type": "markdown",
   "metadata": {},
   "source": [
    "- Q28 After dropping the entries with missing values, what is the total number of entries left in the data?: 26224"
   ]
  },
  {
   "cell_type": "code",
   "execution_count": 384,
   "metadata": {},
   "outputs": [
    {
     "data": {
      "text/plain": [
       "array(['Seoul', 'Busan', 'Daegu', 'Gwangju', 'Incheon', 'Daejeon',\n",
       "       'Ulsan', 'Gyeonggi-do', 'Gangwon-do', 'Chungcheongbuk-do',\n",
       "       'Chungcheongnam-do', 'Jeollabuk-do', 'Jeollanam-do',\n",
       "       'Gyeongsangbuk-do', 'Gyeongsangnam-do', 'Jeju-do',\n",
       "       'Chunghceongbuk-do'], dtype=object)"
      ]
     },
     "execution_count": 384,
     "metadata": {},
     "output_type": "execute_result"
    }
   ],
   "source": [
    "Weather_csv['province'].unique()"
   ]
  },
  {
   "cell_type": "code",
   "execution_count": 385,
   "metadata": {},
   "outputs": [
    {
     "data": {
      "text/plain": [
       "1613"
      ]
     },
     "execution_count": 385,
     "metadata": {},
     "output_type": "execute_result"
    }
   ],
   "source": [
    "len(Weather_csv[Weather_csv['province']=='Chungcheongbuk-do'])"
   ]
  },
  {
   "cell_type": "code",
   "execution_count": 386,
   "metadata": {},
   "outputs": [
    {
     "data": {
      "text/html": [
       "<div>\n",
       "<style scoped>\n",
       "    .dataframe tbody tr th:only-of-type {\n",
       "        vertical-align: middle;\n",
       "    }\n",
       "\n",
       "    .dataframe tbody tr th {\n",
       "        vertical-align: top;\n",
       "    }\n",
       "\n",
       "    .dataframe thead th {\n",
       "        text-align: right;\n",
       "    }\n",
       "</style>\n",
       "<table border=\"1\" class=\"dataframe\">\n",
       "  <thead>\n",
       "    <tr style=\"text-align: right;\">\n",
       "      <th></th>\n",
       "      <th>code</th>\n",
       "      <th>province</th>\n",
       "      <th>date</th>\n",
       "      <th>avg_temp</th>\n",
       "      <th>min_temp</th>\n",
       "      <th>max_temp</th>\n",
       "      <th>precipitation</th>\n",
       "      <th>max_wind_speed</th>\n",
       "      <th>most_wind_direction</th>\n",
       "      <th>avg_relative_humidity</th>\n",
       "    </tr>\n",
       "  </thead>\n",
       "  <tbody>\n",
       "    <tr>\n",
       "      <th>25816</th>\n",
       "      <td>40000</td>\n",
       "      <td>Chunghceongbuk-do</td>\n",
       "      <td>2020-06-01</td>\n",
       "      <td>19.7</td>\n",
       "      <td>13.8</td>\n",
       "      <td>26.3</td>\n",
       "      <td>1.0</td>\n",
       "      <td>6.2</td>\n",
       "      <td>270.0</td>\n",
       "      <td>60.3</td>\n",
       "    </tr>\n",
       "    <tr>\n",
       "      <th>25832</th>\n",
       "      <td>40000</td>\n",
       "      <td>Chunghceongbuk-do</td>\n",
       "      <td>2020-06-02</td>\n",
       "      <td>18.8</td>\n",
       "      <td>11.6</td>\n",
       "      <td>25.3</td>\n",
       "      <td>0.0</td>\n",
       "      <td>6.9</td>\n",
       "      <td>270.0</td>\n",
       "      <td>58.1</td>\n",
       "    </tr>\n",
       "    <tr>\n",
       "      <th>25848</th>\n",
       "      <td>40000</td>\n",
       "      <td>Chunghceongbuk-do</td>\n",
       "      <td>2020-06-03</td>\n",
       "      <td>21.8</td>\n",
       "      <td>17.0</td>\n",
       "      <td>28.2</td>\n",
       "      <td>0.4</td>\n",
       "      <td>3.0</td>\n",
       "      <td>250.0</td>\n",
       "      <td>72.8</td>\n",
       "    </tr>\n",
       "    <tr>\n",
       "      <th>25864</th>\n",
       "      <td>40000</td>\n",
       "      <td>Chunghceongbuk-do</td>\n",
       "      <td>2020-06-04</td>\n",
       "      <td>25.0</td>\n",
       "      <td>19.6</td>\n",
       "      <td>30.5</td>\n",
       "      <td>0.0</td>\n",
       "      <td>4.4</td>\n",
       "      <td>250.0</td>\n",
       "      <td>66.6</td>\n",
       "    </tr>\n",
       "    <tr>\n",
       "      <th>25880</th>\n",
       "      <td>40000</td>\n",
       "      <td>Chunghceongbuk-do</td>\n",
       "      <td>2020-06-05</td>\n",
       "      <td>24.1</td>\n",
       "      <td>20.1</td>\n",
       "      <td>29.9</td>\n",
       "      <td>0.0</td>\n",
       "      <td>3.3</td>\n",
       "      <td>250.0</td>\n",
       "      <td>66.3</td>\n",
       "    </tr>\n",
       "    <tr>\n",
       "      <th>25896</th>\n",
       "      <td>40000</td>\n",
       "      <td>Chunghceongbuk-do</td>\n",
       "      <td>2020-06-06</td>\n",
       "      <td>23.7</td>\n",
       "      <td>17.0</td>\n",
       "      <td>30.1</td>\n",
       "      <td>0.0</td>\n",
       "      <td>3.5</td>\n",
       "      <td>70.0</td>\n",
       "      <td>57.1</td>\n",
       "    </tr>\n",
       "    <tr>\n",
       "      <th>25912</th>\n",
       "      <td>40000</td>\n",
       "      <td>Chunghceongbuk-do</td>\n",
       "      <td>2020-06-07</td>\n",
       "      <td>22.7</td>\n",
       "      <td>17.7</td>\n",
       "      <td>29.0</td>\n",
       "      <td>0.0</td>\n",
       "      <td>2.9</td>\n",
       "      <td>90.0</td>\n",
       "      <td>58.5</td>\n",
       "    </tr>\n",
       "    <tr>\n",
       "      <th>25928</th>\n",
       "      <td>40000</td>\n",
       "      <td>Chunghceongbuk-do</td>\n",
       "      <td>2020-06-08</td>\n",
       "      <td>24.9</td>\n",
       "      <td>18.3</td>\n",
       "      <td>31.7</td>\n",
       "      <td>0.0</td>\n",
       "      <td>3.2</td>\n",
       "      <td>90.0</td>\n",
       "      <td>67.6</td>\n",
       "    </tr>\n",
       "    <tr>\n",
       "      <th>25944</th>\n",
       "      <td>40000</td>\n",
       "      <td>Chunghceongbuk-do</td>\n",
       "      <td>2020-06-09</td>\n",
       "      <td>26.0</td>\n",
       "      <td>18.1</td>\n",
       "      <td>33.8</td>\n",
       "      <td>0.0</td>\n",
       "      <td>3.1</td>\n",
       "      <td>90.0</td>\n",
       "      <td>61.9</td>\n",
       "    </tr>\n",
       "    <tr>\n",
       "      <th>25960</th>\n",
       "      <td>40000</td>\n",
       "      <td>Chunghceongbuk-do</td>\n",
       "      <td>2020-06-10</td>\n",
       "      <td>25.7</td>\n",
       "      <td>19.0</td>\n",
       "      <td>33.7</td>\n",
       "      <td>31.0</td>\n",
       "      <td>5.8</td>\n",
       "      <td>90.0</td>\n",
       "      <td>65.4</td>\n",
       "    </tr>\n",
       "    <tr>\n",
       "      <th>25976</th>\n",
       "      <td>40000</td>\n",
       "      <td>Chunghceongbuk-do</td>\n",
       "      <td>2020-06-11</td>\n",
       "      <td>25.4</td>\n",
       "      <td>20.7</td>\n",
       "      <td>31.6</td>\n",
       "      <td>7.9</td>\n",
       "      <td>3.3</td>\n",
       "      <td>90.0</td>\n",
       "      <td>75.6</td>\n",
       "    </tr>\n",
       "    <tr>\n",
       "      <th>25992</th>\n",
       "      <td>40000</td>\n",
       "      <td>Chunghceongbuk-do</td>\n",
       "      <td>2020-06-12</td>\n",
       "      <td>23.6</td>\n",
       "      <td>20.5</td>\n",
       "      <td>27.8</td>\n",
       "      <td>1.4</td>\n",
       "      <td>3.1</td>\n",
       "      <td>90.0</td>\n",
       "      <td>82.3</td>\n",
       "    </tr>\n",
       "    <tr>\n",
       "      <th>26008</th>\n",
       "      <td>40000</td>\n",
       "      <td>Chunghceongbuk-do</td>\n",
       "      <td>2020-06-13</td>\n",
       "      <td>25.0</td>\n",
       "      <td>19.7</td>\n",
       "      <td>32.5</td>\n",
       "      <td>2.9</td>\n",
       "      <td>5.0</td>\n",
       "      <td>70.0</td>\n",
       "      <td>70.5</td>\n",
       "    </tr>\n",
       "    <tr>\n",
       "      <th>26024</th>\n",
       "      <td>40000</td>\n",
       "      <td>Chunghceongbuk-do</td>\n",
       "      <td>2020-06-14</td>\n",
       "      <td>23.9</td>\n",
       "      <td>20.8</td>\n",
       "      <td>28.3</td>\n",
       "      <td>7.5</td>\n",
       "      <td>5.4</td>\n",
       "      <td>250.0</td>\n",
       "      <td>78.1</td>\n",
       "    </tr>\n",
       "    <tr>\n",
       "      <th>26040</th>\n",
       "      <td>40000</td>\n",
       "      <td>Chunghceongbuk-do</td>\n",
       "      <td>2020-06-15</td>\n",
       "      <td>22.4</td>\n",
       "      <td>15.8</td>\n",
       "      <td>28.7</td>\n",
       "      <td>0.0</td>\n",
       "      <td>4.5</td>\n",
       "      <td>270.0</td>\n",
       "      <td>65.5</td>\n",
       "    </tr>\n",
       "    <tr>\n",
       "      <th>26056</th>\n",
       "      <td>40000</td>\n",
       "      <td>Chunghceongbuk-do</td>\n",
       "      <td>2020-06-16</td>\n",
       "      <td>22.1</td>\n",
       "      <td>15.1</td>\n",
       "      <td>29.3</td>\n",
       "      <td>0.0</td>\n",
       "      <td>2.5</td>\n",
       "      <td>90.0</td>\n",
       "      <td>68.4</td>\n",
       "    </tr>\n",
       "    <tr>\n",
       "      <th>26072</th>\n",
       "      <td>40000</td>\n",
       "      <td>Chunghceongbuk-do</td>\n",
       "      <td>2020-06-17</td>\n",
       "      <td>23.2</td>\n",
       "      <td>16.7</td>\n",
       "      <td>29.1</td>\n",
       "      <td>0.0</td>\n",
       "      <td>4.3</td>\n",
       "      <td>250.0</td>\n",
       "      <td>67.3</td>\n",
       "    </tr>\n",
       "    <tr>\n",
       "      <th>26088</th>\n",
       "      <td>40000</td>\n",
       "      <td>Chunghceongbuk-do</td>\n",
       "      <td>2020-06-18</td>\n",
       "      <td>21.0</td>\n",
       "      <td>17.8</td>\n",
       "      <td>24.5</td>\n",
       "      <td>0.0</td>\n",
       "      <td>2.4</td>\n",
       "      <td>70.0</td>\n",
       "      <td>75.0</td>\n",
       "    </tr>\n",
       "    <tr>\n",
       "      <th>26104</th>\n",
       "      <td>40000</td>\n",
       "      <td>Chunghceongbuk-do</td>\n",
       "      <td>2020-06-19</td>\n",
       "      <td>22.3</td>\n",
       "      <td>17.5</td>\n",
       "      <td>28.7</td>\n",
       "      <td>0.0</td>\n",
       "      <td>5.0</td>\n",
       "      <td>90.0</td>\n",
       "      <td>74.3</td>\n",
       "    </tr>\n",
       "    <tr>\n",
       "      <th>26120</th>\n",
       "      <td>40000</td>\n",
       "      <td>Chunghceongbuk-do</td>\n",
       "      <td>2020-06-20</td>\n",
       "      <td>24.7</td>\n",
       "      <td>18.2</td>\n",
       "      <td>30.6</td>\n",
       "      <td>0.0</td>\n",
       "      <td>3.6</td>\n",
       "      <td>90.0</td>\n",
       "      <td>67.3</td>\n",
       "    </tr>\n",
       "    <tr>\n",
       "      <th>26136</th>\n",
       "      <td>40000</td>\n",
       "      <td>Chunghceongbuk-do</td>\n",
       "      <td>2020-06-21</td>\n",
       "      <td>25.7</td>\n",
       "      <td>20.7</td>\n",
       "      <td>32.3</td>\n",
       "      <td>0.0</td>\n",
       "      <td>2.6</td>\n",
       "      <td>20.0</td>\n",
       "      <td>66.5</td>\n",
       "    </tr>\n",
       "    <tr>\n",
       "      <th>26152</th>\n",
       "      <td>40000</td>\n",
       "      <td>Chunghceongbuk-do</td>\n",
       "      <td>2020-06-22</td>\n",
       "      <td>27.1</td>\n",
       "      <td>19.6</td>\n",
       "      <td>34.4</td>\n",
       "      <td>0.0</td>\n",
       "      <td>3.1</td>\n",
       "      <td>90.0</td>\n",
       "      <td>63.3</td>\n",
       "    </tr>\n",
       "    <tr>\n",
       "      <th>26168</th>\n",
       "      <td>40000</td>\n",
       "      <td>Chunghceongbuk-do</td>\n",
       "      <td>2020-06-23</td>\n",
       "      <td>26.6</td>\n",
       "      <td>20.8</td>\n",
       "      <td>33.7</td>\n",
       "      <td>0.0</td>\n",
       "      <td>4.9</td>\n",
       "      <td>90.0</td>\n",
       "      <td>62.5</td>\n",
       "    </tr>\n",
       "    <tr>\n",
       "      <th>26184</th>\n",
       "      <td>40000</td>\n",
       "      <td>Chunghceongbuk-do</td>\n",
       "      <td>2020-06-24</td>\n",
       "      <td>22.4</td>\n",
       "      <td>19.8</td>\n",
       "      <td>25.6</td>\n",
       "      <td>9.3</td>\n",
       "      <td>4.9</td>\n",
       "      <td>90.0</td>\n",
       "      <td>74.0</td>\n",
       "    </tr>\n",
       "    <tr>\n",
       "      <th>26200</th>\n",
       "      <td>40000</td>\n",
       "      <td>Chunghceongbuk-do</td>\n",
       "      <td>2020-06-25</td>\n",
       "      <td>21.3</td>\n",
       "      <td>20.0</td>\n",
       "      <td>23.8</td>\n",
       "      <td>1.6</td>\n",
       "      <td>2.8</td>\n",
       "      <td>230.0</td>\n",
       "      <td>90.3</td>\n",
       "    </tr>\n",
       "    <tr>\n",
       "      <th>26216</th>\n",
       "      <td>40000</td>\n",
       "      <td>Chunghceongbuk-do</td>\n",
       "      <td>2020-06-26</td>\n",
       "      <td>22.1</td>\n",
       "      <td>19.3</td>\n",
       "      <td>27.5</td>\n",
       "      <td>0.1</td>\n",
       "      <td>4.3</td>\n",
       "      <td>270.0</td>\n",
       "      <td>79.3</td>\n",
       "    </tr>\n",
       "    <tr>\n",
       "      <th>26232</th>\n",
       "      <td>40000</td>\n",
       "      <td>Chunghceongbuk-do</td>\n",
       "      <td>2020-06-27</td>\n",
       "      <td>23.2</td>\n",
       "      <td>19.0</td>\n",
       "      <td>28.5</td>\n",
       "      <td>0.0</td>\n",
       "      <td>2.7</td>\n",
       "      <td>270.0</td>\n",
       "      <td>75.0</td>\n",
       "    </tr>\n",
       "    <tr>\n",
       "      <th>26248</th>\n",
       "      <td>40000</td>\n",
       "      <td>Chunghceongbuk-do</td>\n",
       "      <td>2020-06-28</td>\n",
       "      <td>23.9</td>\n",
       "      <td>18.6</td>\n",
       "      <td>30.3</td>\n",
       "      <td>0.0</td>\n",
       "      <td>3.8</td>\n",
       "      <td>270.0</td>\n",
       "      <td>73.3</td>\n",
       "    </tr>\n",
       "    <tr>\n",
       "      <th>26264</th>\n",
       "      <td>40000</td>\n",
       "      <td>Chunghceongbuk-do</td>\n",
       "      <td>2020-06-29</td>\n",
       "      <td>22.5</td>\n",
       "      <td>17.9</td>\n",
       "      <td>27.0</td>\n",
       "      <td>20.6</td>\n",
       "      <td>6.4</td>\n",
       "      <td>90.0</td>\n",
       "      <td>78.9</td>\n",
       "    </tr>\n",
       "  </tbody>\n",
       "</table>\n",
       "</div>"
      ],
      "text/plain": [
       "        code           province        date  avg_temp  min_temp  max_temp  \\\n",
       "25816  40000  Chunghceongbuk-do  2020-06-01      19.7      13.8      26.3   \n",
       "25832  40000  Chunghceongbuk-do  2020-06-02      18.8      11.6      25.3   \n",
       "25848  40000  Chunghceongbuk-do  2020-06-03      21.8      17.0      28.2   \n",
       "25864  40000  Chunghceongbuk-do  2020-06-04      25.0      19.6      30.5   \n",
       "25880  40000  Chunghceongbuk-do  2020-06-05      24.1      20.1      29.9   \n",
       "25896  40000  Chunghceongbuk-do  2020-06-06      23.7      17.0      30.1   \n",
       "25912  40000  Chunghceongbuk-do  2020-06-07      22.7      17.7      29.0   \n",
       "25928  40000  Chunghceongbuk-do  2020-06-08      24.9      18.3      31.7   \n",
       "25944  40000  Chunghceongbuk-do  2020-06-09      26.0      18.1      33.8   \n",
       "25960  40000  Chunghceongbuk-do  2020-06-10      25.7      19.0      33.7   \n",
       "25976  40000  Chunghceongbuk-do  2020-06-11      25.4      20.7      31.6   \n",
       "25992  40000  Chunghceongbuk-do  2020-06-12      23.6      20.5      27.8   \n",
       "26008  40000  Chunghceongbuk-do  2020-06-13      25.0      19.7      32.5   \n",
       "26024  40000  Chunghceongbuk-do  2020-06-14      23.9      20.8      28.3   \n",
       "26040  40000  Chunghceongbuk-do  2020-06-15      22.4      15.8      28.7   \n",
       "26056  40000  Chunghceongbuk-do  2020-06-16      22.1      15.1      29.3   \n",
       "26072  40000  Chunghceongbuk-do  2020-06-17      23.2      16.7      29.1   \n",
       "26088  40000  Chunghceongbuk-do  2020-06-18      21.0      17.8      24.5   \n",
       "26104  40000  Chunghceongbuk-do  2020-06-19      22.3      17.5      28.7   \n",
       "26120  40000  Chunghceongbuk-do  2020-06-20      24.7      18.2      30.6   \n",
       "26136  40000  Chunghceongbuk-do  2020-06-21      25.7      20.7      32.3   \n",
       "26152  40000  Chunghceongbuk-do  2020-06-22      27.1      19.6      34.4   \n",
       "26168  40000  Chunghceongbuk-do  2020-06-23      26.6      20.8      33.7   \n",
       "26184  40000  Chunghceongbuk-do  2020-06-24      22.4      19.8      25.6   \n",
       "26200  40000  Chunghceongbuk-do  2020-06-25      21.3      20.0      23.8   \n",
       "26216  40000  Chunghceongbuk-do  2020-06-26      22.1      19.3      27.5   \n",
       "26232  40000  Chunghceongbuk-do  2020-06-27      23.2      19.0      28.5   \n",
       "26248  40000  Chunghceongbuk-do  2020-06-28      23.9      18.6      30.3   \n",
       "26264  40000  Chunghceongbuk-do  2020-06-29      22.5      17.9      27.0   \n",
       "\n",
       "       precipitation  max_wind_speed  most_wind_direction  \\\n",
       "25816            1.0             6.2                270.0   \n",
       "25832            0.0             6.9                270.0   \n",
       "25848            0.4             3.0                250.0   \n",
       "25864            0.0             4.4                250.0   \n",
       "25880            0.0             3.3                250.0   \n",
       "25896            0.0             3.5                 70.0   \n",
       "25912            0.0             2.9                 90.0   \n",
       "25928            0.0             3.2                 90.0   \n",
       "25944            0.0             3.1                 90.0   \n",
       "25960           31.0             5.8                 90.0   \n",
       "25976            7.9             3.3                 90.0   \n",
       "25992            1.4             3.1                 90.0   \n",
       "26008            2.9             5.0                 70.0   \n",
       "26024            7.5             5.4                250.0   \n",
       "26040            0.0             4.5                270.0   \n",
       "26056            0.0             2.5                 90.0   \n",
       "26072            0.0             4.3                250.0   \n",
       "26088            0.0             2.4                 70.0   \n",
       "26104            0.0             5.0                 90.0   \n",
       "26120            0.0             3.6                 90.0   \n",
       "26136            0.0             2.6                 20.0   \n",
       "26152            0.0             3.1                 90.0   \n",
       "26168            0.0             4.9                 90.0   \n",
       "26184            9.3             4.9                 90.0   \n",
       "26200            1.6             2.8                230.0   \n",
       "26216            0.1             4.3                270.0   \n",
       "26232            0.0             2.7                270.0   \n",
       "26248            0.0             3.8                270.0   \n",
       "26264           20.6             6.4                 90.0   \n",
       "\n",
       "       avg_relative_humidity  \n",
       "25816                   60.3  \n",
       "25832                   58.1  \n",
       "25848                   72.8  \n",
       "25864                   66.6  \n",
       "25880                   66.3  \n",
       "25896                   57.1  \n",
       "25912                   58.5  \n",
       "25928                   67.6  \n",
       "25944                   61.9  \n",
       "25960                   65.4  \n",
       "25976                   75.6  \n",
       "25992                   82.3  \n",
       "26008                   70.5  \n",
       "26024                   78.1  \n",
       "26040                   65.5  \n",
       "26056                   68.4  \n",
       "26072                   67.3  \n",
       "26088                   75.0  \n",
       "26104                   74.3  \n",
       "26120                   67.3  \n",
       "26136                   66.5  \n",
       "26152                   63.3  \n",
       "26168                   62.5  \n",
       "26184                   74.0  \n",
       "26200                   90.3  \n",
       "26216                   79.3  \n",
       "26232                   75.0  \n",
       "26248                   73.3  \n",
       "26264                   78.9  "
      ]
     },
     "execution_count": 386,
     "metadata": {},
     "output_type": "execute_result"
    }
   ],
   "source": [
    "Weather_csv[Weather_csv['province']=='Chunghceongbuk-do']"
   ]
  },
  {
   "cell_type": "code",
   "execution_count": 387,
   "metadata": {},
   "outputs": [],
   "source": [
    "Weather_csv=Weather_csv.replace('Chunghceongbuk-do','Chungcheongbuk-do')"
   ]
  },
  {
   "cell_type": "code",
   "execution_count": 388,
   "metadata": {},
   "outputs": [
    {
     "data": {
      "text/plain": [
       "array(['Seoul', 'Busan', 'Daegu', 'Gwangju', 'Incheon', 'Daejeon',\n",
       "       'Ulsan', 'Gyeonggi-do', 'Gangwon-do', 'Chungcheongbuk-do',\n",
       "       'Chungcheongnam-do', 'Jeollabuk-do', 'Jeollanam-do',\n",
       "       'Gyeongsangbuk-do', 'Gyeongsangnam-do', 'Jeju-do'], dtype=object)"
      ]
     },
     "execution_count": 388,
     "metadata": {},
     "output_type": "execute_result"
    }
   ],
   "source": [
    "Weather_csv['province'].unique()"
   ]
  },
  {
   "cell_type": "code",
   "execution_count": 389,
   "metadata": {},
   "outputs": [
    {
     "data": {
      "text/html": [
       "<div>\n",
       "<style scoped>\n",
       "    .dataframe tbody tr th:only-of-type {\n",
       "        vertical-align: middle;\n",
       "    }\n",
       "\n",
       "    .dataframe tbody tr th {\n",
       "        vertical-align: top;\n",
       "    }\n",
       "\n",
       "    .dataframe thead th {\n",
       "        text-align: right;\n",
       "    }\n",
       "</style>\n",
       "<table border=\"1\" class=\"dataframe\">\n",
       "  <thead>\n",
       "    <tr style=\"text-align: right;\">\n",
       "      <th></th>\n",
       "      <th>code</th>\n",
       "      <th>province</th>\n",
       "      <th>date</th>\n",
       "      <th>avg_temp</th>\n",
       "      <th>min_temp</th>\n",
       "      <th>max_temp</th>\n",
       "      <th>precipitation</th>\n",
       "      <th>max_wind_speed</th>\n",
       "      <th>most_wind_direction</th>\n",
       "      <th>avg_relative_humidity</th>\n",
       "    </tr>\n",
       "  </thead>\n",
       "  <tbody>\n",
       "  </tbody>\n",
       "</table>\n",
       "</div>"
      ],
      "text/plain": [
       "Empty DataFrame\n",
       "Columns: [code, province, date, avg_temp, min_temp, max_temp, precipitation, max_wind_speed, most_wind_direction, avg_relative_humidity]\n",
       "Index: []"
      ]
     },
     "execution_count": 389,
     "metadata": {},
     "output_type": "execute_result"
    }
   ],
   "source": [
    "Weather_csv[Weather_csv['province']=='Chunghceongbuk-do']"
   ]
  },
  {
   "cell_type": "code",
   "execution_count": 390,
   "metadata": {},
   "outputs": [
    {
     "data": {
      "text/plain": [
       "1642"
      ]
     },
     "execution_count": 390,
     "metadata": {},
     "output_type": "execute_result"
    }
   ],
   "source": [
    "len(Weather_csv[Weather_csv['province']=='Chungcheongbuk-do'])"
   ]
  },
  {
   "cell_type": "markdown",
   "metadata": {},
   "source": [
    "- Q29: Under the provinces column, there is one misspelled entry. After correcting this mistake, how many unique values are under this column?: 'Chunghceongbuk-do', 1642"
   ]
  },
  {
   "cell_type": "code",
   "execution_count": 391,
   "metadata": {},
   "outputs": [
    {
     "data": {
      "text/plain": [
       "0         1.2\n",
       "1         5.3\n",
       "2         1.7\n",
       "3         3.2\n",
       "4         3.1\n",
       "         ... \n",
       "26266    22.0\n",
       "26267    21.9\n",
       "26268    20.4\n",
       "26269    21.9\n",
       "26270    23.2\n",
       "Name: avg_temp, Length: 26271, dtype: float64"
      ]
     },
     "execution_count": 391,
     "metadata": {},
     "output_type": "execute_result"
    }
   ],
   "source": [
    "Weather_csv['avg_temp']"
   ]
  },
  {
   "cell_type": "code",
   "execution_count": 393,
   "metadata": {},
   "outputs": [
    {
     "data": {
      "text/plain": [
       "33.9"
      ]
     },
     "execution_count": 393,
     "metadata": {},
     "output_type": "execute_result"
    }
   ],
   "source": [
    "round(Weather_csv['avg_temp'],1).max()"
   ]
  },
  {
   "cell_type": "markdown",
   "metadata": {},
   "source": [
    "- Q30: What is the highest average temperature? (round to the nearest tenths): 33.9"
   ]
  },
  {
   "cell_type": "code",
   "execution_count": 397,
   "metadata": {},
   "outputs": [
    {
     "data": {
      "text/plain": [
       "10.4"
      ]
     },
     "execution_count": 397,
     "metadata": {},
     "output_type": "execute_result"
    }
   ],
   "source": [
    "round(Weather_csv['avg_relative_humidity'],1).min()"
   ]
  },
  {
   "cell_type": "markdown",
   "metadata": {},
   "source": [
    "- Q31: What is the lowest average relative humidity? (round to the nearest tenths): 10.4"
   ]
  },
  {
   "cell_type": "markdown",
   "metadata": {},
   "source": [
    "# Task 6: Patient"
   ]
  },
  {
   "cell_type": "code",
   "execution_count": 473,
   "metadata": {},
   "outputs": [
    {
     "data": {
      "text/html": [
       "<div>\n",
       "<style scoped>\n",
       "    .dataframe tbody tr th:only-of-type {\n",
       "        vertical-align: middle;\n",
       "    }\n",
       "\n",
       "    .dataframe tbody tr th {\n",
       "        vertical-align: top;\n",
       "    }\n",
       "\n",
       "    .dataframe thead th {\n",
       "        text-align: right;\n",
       "    }\n",
       "</style>\n",
       "<table border=\"1\" class=\"dataframe\">\n",
       "  <thead>\n",
       "    <tr style=\"text-align: right;\">\n",
       "      <th></th>\n",
       "      <th>patient_id</th>\n",
       "      <th>sex</th>\n",
       "      <th>age</th>\n",
       "      <th>country</th>\n",
       "      <th>province</th>\n",
       "      <th>city</th>\n",
       "      <th>infection_case</th>\n",
       "      <th>infected_by</th>\n",
       "      <th>contact_number</th>\n",
       "      <th>symptom_onset_date</th>\n",
       "      <th>confirmed_date</th>\n",
       "      <th>released_date</th>\n",
       "      <th>deceased_date</th>\n",
       "      <th>state</th>\n",
       "    </tr>\n",
       "  </thead>\n",
       "  <tbody>\n",
       "    <tr>\n",
       "      <th>0</th>\n",
       "      <td>1000000001</td>\n",
       "      <td>male</td>\n",
       "      <td>50s</td>\n",
       "      <td>Korea</td>\n",
       "      <td>Seoul</td>\n",
       "      <td>Gangseo-gu</td>\n",
       "      <td>overseas inflow</td>\n",
       "      <td>NaN</td>\n",
       "      <td>75</td>\n",
       "      <td>2020-01-22</td>\n",
       "      <td>2020-01-23</td>\n",
       "      <td>2020-02-05</td>\n",
       "      <td>NaN</td>\n",
       "      <td>released</td>\n",
       "    </tr>\n",
       "    <tr>\n",
       "      <th>1</th>\n",
       "      <td>1000000002</td>\n",
       "      <td>male</td>\n",
       "      <td>30s</td>\n",
       "      <td>Korea</td>\n",
       "      <td>Seoul</td>\n",
       "      <td>Jungnang-gu</td>\n",
       "      <td>overseas inflow</td>\n",
       "      <td>NaN</td>\n",
       "      <td>31</td>\n",
       "      <td>NaN</td>\n",
       "      <td>2020-01-30</td>\n",
       "      <td>2020-03-02</td>\n",
       "      <td>NaN</td>\n",
       "      <td>released</td>\n",
       "    </tr>\n",
       "    <tr>\n",
       "      <th>2</th>\n",
       "      <td>1000000003</td>\n",
       "      <td>male</td>\n",
       "      <td>50s</td>\n",
       "      <td>Korea</td>\n",
       "      <td>Seoul</td>\n",
       "      <td>Jongno-gu</td>\n",
       "      <td>contact with patient</td>\n",
       "      <td>2002000001</td>\n",
       "      <td>17</td>\n",
       "      <td>NaN</td>\n",
       "      <td>2020-01-30</td>\n",
       "      <td>2020-02-19</td>\n",
       "      <td>NaN</td>\n",
       "      <td>released</td>\n",
       "    </tr>\n",
       "    <tr>\n",
       "      <th>3</th>\n",
       "      <td>1000000004</td>\n",
       "      <td>male</td>\n",
       "      <td>20s</td>\n",
       "      <td>Korea</td>\n",
       "      <td>Seoul</td>\n",
       "      <td>Mapo-gu</td>\n",
       "      <td>overseas inflow</td>\n",
       "      <td>NaN</td>\n",
       "      <td>9</td>\n",
       "      <td>2020-01-26</td>\n",
       "      <td>2020-01-30</td>\n",
       "      <td>2020-02-15</td>\n",
       "      <td>NaN</td>\n",
       "      <td>released</td>\n",
       "    </tr>\n",
       "    <tr>\n",
       "      <th>4</th>\n",
       "      <td>1000000005</td>\n",
       "      <td>female</td>\n",
       "      <td>20s</td>\n",
       "      <td>Korea</td>\n",
       "      <td>Seoul</td>\n",
       "      <td>Seongbuk-gu</td>\n",
       "      <td>contact with patient</td>\n",
       "      <td>1000000002</td>\n",
       "      <td>2</td>\n",
       "      <td>NaN</td>\n",
       "      <td>2020-01-31</td>\n",
       "      <td>2020-02-24</td>\n",
       "      <td>NaN</td>\n",
       "      <td>released</td>\n",
       "    </tr>\n",
       "  </tbody>\n",
       "</table>\n",
       "</div>"
      ],
      "text/plain": [
       "   patient_id     sex  age country province         city  \\\n",
       "0  1000000001    male  50s   Korea    Seoul   Gangseo-gu   \n",
       "1  1000000002    male  30s   Korea    Seoul  Jungnang-gu   \n",
       "2  1000000003    male  50s   Korea    Seoul    Jongno-gu   \n",
       "3  1000000004    male  20s   Korea    Seoul      Mapo-gu   \n",
       "4  1000000005  female  20s   Korea    Seoul  Seongbuk-gu   \n",
       "\n",
       "         infection_case infected_by contact_number symptom_onset_date  \\\n",
       "0       overseas inflow         NaN             75         2020-01-22   \n",
       "1       overseas inflow         NaN             31                NaN   \n",
       "2  contact with patient  2002000001             17                NaN   \n",
       "3       overseas inflow         NaN              9         2020-01-26   \n",
       "4  contact with patient  1000000002              2                NaN   \n",
       "\n",
       "  confirmed_date released_date deceased_date     state  \n",
       "0     2020-01-23    2020-02-05           NaN  released  \n",
       "1     2020-01-30    2020-03-02           NaN  released  \n",
       "2     2020-01-30    2020-02-19           NaN  released  \n",
       "3     2020-01-30    2020-02-15           NaN  released  \n",
       "4     2020-01-31    2020-02-24           NaN  released  "
      ]
     },
     "execution_count": 473,
     "metadata": {},
     "output_type": "execute_result"
    }
   ],
   "source": [
    "Patientinfo_csv=pd.read_csv('C:/Users/castl/Desktop/데이터 사이언스/PatientInfo.csv')\n",
    "Patientinfo_csv.head(5)"
   ]
  },
  {
   "cell_type": "code",
   "execution_count": 474,
   "metadata": {},
   "outputs": [
    {
     "name": "stdout",
     "output_type": "stream",
     "text": [
      "<class 'pandas.core.frame.DataFrame'>\n",
      "RangeIndex: 5165 entries, 0 to 5164\n",
      "Data columns (total 14 columns):\n",
      " #   Column              Non-Null Count  Dtype \n",
      "---  ------              --------------  ----- \n",
      " 0   patient_id          5165 non-null   int64 \n",
      " 1   sex                 4043 non-null   object\n",
      " 2   age                 3785 non-null   object\n",
      " 3   country             5165 non-null   object\n",
      " 4   province            5165 non-null   object\n",
      " 5   city                5071 non-null   object\n",
      " 6   infection_case      4246 non-null   object\n",
      " 7   infected_by         1346 non-null   object\n",
      " 8   contact_number      791 non-null    object\n",
      " 9   symptom_onset_date  690 non-null    object\n",
      " 10  confirmed_date      5162 non-null   object\n",
      " 11  released_date       1587 non-null   object\n",
      " 12  deceased_date       66 non-null     object\n",
      " 13  state               5165 non-null   object\n",
      "dtypes: int64(1), object(13)\n",
      "memory usage: 565.0+ KB\n"
     ]
    }
   ],
   "source": [
    "Patientinfo_csv.info()"
   ]
  },
  {
   "cell_type": "code",
   "execution_count": 475,
   "metadata": {},
   "outputs": [],
   "source": [
    "# NaN값을 0으로 변환\n",
    "Patientinfo_csv['contact_number'].fillna(0,inplace=True)"
   ]
  },
  {
   "cell_type": "code",
   "execution_count": 476,
   "metadata": {},
   "outputs": [],
   "source": [
    "Patientinfo_csv['contact_number']=Patientinfo_csv['contact_number'].replace('-','0')"
   ]
  },
  {
   "cell_type": "code",
   "execution_count": 478,
   "metadata": {},
   "outputs": [
    {
     "data": {
      "text/plain": [
       "array(['75', '31', '17', '9', '2', '43', '0', '68', '6', '23', '117',\n",
       "       '27', '8', 0, '4', '3', '1', '1000000796', '13', '12', '1091',\n",
       "       '131', '16', '14', '485', '19', '296', '15', '34', '37', '22', '7',\n",
       "       '10', '28', '21', '5', '25', '18', '159', '11', '30', '41', '71',\n",
       "       '38', '24', '185', '69', '39', '1160', '450', '65', '156', '47',\n",
       "       '86', '74', '46', '64', '66', '40', '20', '42', '107', '29', '26',\n",
       "       '45', '95', '422', '290', '32', '53', '70', '35', '51', '130',\n",
       "       '106', '174', '78', '33', '89', '61', '113', '36', '6100000098',\n",
       "       '6100000099', '87', '84', '140', '72'], dtype=object)"
      ]
     },
     "execution_count": 478,
     "metadata": {},
     "output_type": "execute_result"
    }
   ],
   "source": [
    "Patientinfo_csv['contact_number'].unique()"
   ]
  },
  {
   "cell_type": "code",
   "execution_count": 479,
   "metadata": {},
   "outputs": [],
   "source": [
    "Patientinfo_csv['contact_number']=Patientinfo_csv['contact_number'].replace('1000000796','0')"
   ]
  },
  {
   "cell_type": "code",
   "execution_count": 480,
   "metadata": {},
   "outputs": [],
   "source": [
    "Patientinfo_csv['contact_number']=Patientinfo_csv['contact_number'].replace('6100000099','0')"
   ]
  },
  {
   "cell_type": "code",
   "execution_count": 481,
   "metadata": {},
   "outputs": [],
   "source": [
    "Patientinfo_csv['contact_number']=Patientinfo_csv['contact_number'].replace('6100000098','0')"
   ]
  },
  {
   "cell_type": "code",
   "execution_count": 482,
   "metadata": {},
   "outputs": [
    {
     "data": {
      "text/plain": [
       "array(['75', '31', '17', '9', '2', '43', '0', '68', '6', '23', '117',\n",
       "       '27', '8', 0, '4', '3', '1', '13', '12', '1091', '131', '16', '14',\n",
       "       '485', '19', '296', '15', '34', '37', '22', '7', '10', '28', '21',\n",
       "       '5', '25', '18', '159', '11', '30', '41', '71', '38', '24', '185',\n",
       "       '69', '39', '1160', '450', '65', '156', '47', '86', '74', '46',\n",
       "       '64', '66', '40', '20', '42', '107', '29', '26', '45', '95', '422',\n",
       "       '290', '32', '53', '70', '35', '51', '130', '106', '174', '78',\n",
       "       '33', '89', '61', '113', '36', '87', '84', '140', '72'],\n",
       "      dtype=object)"
      ]
     },
     "execution_count": 482,
     "metadata": {},
     "output_type": "execute_result"
    }
   ],
   "source": [
    "Patientinfo_csv['contact_number'].unique()"
   ]
  },
  {
   "cell_type": "code",
   "execution_count": 497,
   "metadata": {},
   "outputs": [],
   "source": [
    "Patientinfo_csv['contact_number']=Patientinfo_csv['contact_number'].astype('int')"
   ]
  },
  {
   "cell_type": "code",
   "execution_count": 498,
   "metadata": {},
   "outputs": [],
   "source": [
    "a=Patientinfo_csv[Patientinfo_csv['infected_by'].isna()==True]"
   ]
  },
  {
   "cell_type": "code",
   "execution_count": 500,
   "metadata": {},
   "outputs": [
    {
     "data": {
      "text/plain": [
       "1160"
      ]
     },
     "execution_count": 500,
     "metadata": {},
     "output_type": "execute_result"
    }
   ],
   "source": [
    "a['contact_number'].max()"
   ]
  },
  {
   "cell_type": "markdown",
   "metadata": {},
   "source": [
    "- Q32: What is the largest number of human contact before a patient is confirmed?: 1160"
   ]
  },
  {
   "cell_type": "code",
   "execution_count": 502,
   "metadata": {},
   "outputs": [
    {
     "data": {
      "text/plain": [
       "5165"
      ]
     },
     "execution_count": 502,
     "metadata": {},
     "output_type": "execute_result"
    }
   ],
   "source": [
    "len(Patientinfo_csv['country'])"
   ]
  },
  {
   "cell_type": "code",
   "execution_count": 503,
   "metadata": {},
   "outputs": [
    {
     "data": {
      "text/plain": [
       "array(['Korea', 'China', 'United States', 'France', 'Thailand', 'Canada',\n",
       "       'India', 'Switzerland', 'Germany', 'Indonesia', 'Vietnam',\n",
       "       'Foreign', 'Mongolia', 'United Kingdom', 'Spain', 'Bangladesh'],\n",
       "      dtype=object)"
      ]
     },
     "execution_count": 503,
     "metadata": {},
     "output_type": "execute_result"
    }
   ],
   "source": [
    "Patientinfo_csv['country'].unique()"
   ]
  },
  {
   "cell_type": "code",
   "execution_count": 504,
   "metadata": {},
   "outputs": [
    {
     "data": {
      "text/plain": [
       "5123"
      ]
     },
     "execution_count": 504,
     "metadata": {},
     "output_type": "execute_result"
    }
   ],
   "source": [
    "len(Patientinfo_csv[Patientinfo_csv['country']=='Korea'])"
   ]
  },
  {
   "cell_type": "code",
   "execution_count": 505,
   "metadata": {},
   "outputs": [
    {
     "data": {
      "text/plain": [
       "42"
      ]
     },
     "execution_count": 505,
     "metadata": {},
     "output_type": "execute_result"
    }
   ],
   "source": [
    "len(Patientinfo_csv['country'])-len(Patientinfo_csv[Patientinfo_csv['country']=='Korea'])"
   ]
  },
  {
   "cell_type": "markdown",
   "metadata": {},
   "source": [
    "- Q33: How many were non-Korean patients?: 42"
   ]
  },
  {
   "cell_type": "markdown",
   "metadata": {},
   "source": [
    "# Task 7: Search"
   ]
  },
  {
   "cell_type": "code",
   "execution_count": 512,
   "metadata": {},
   "outputs": [
    {
     "data": {
      "text/html": [
       "<div>\n",
       "<style scoped>\n",
       "    .dataframe tbody tr th:only-of-type {\n",
       "        vertical-align: middle;\n",
       "    }\n",
       "\n",
       "    .dataframe tbody tr th {\n",
       "        vertical-align: top;\n",
       "    }\n",
       "\n",
       "    .dataframe thead th {\n",
       "        text-align: right;\n",
       "    }\n",
       "</style>\n",
       "<table border=\"1\" class=\"dataframe\">\n",
       "  <thead>\n",
       "    <tr style=\"text-align: right;\">\n",
       "      <th></th>\n",
       "      <th>date</th>\n",
       "      <th>cold</th>\n",
       "      <th>flu</th>\n",
       "      <th>pneumonia</th>\n",
       "      <th>coronavirus</th>\n",
       "    </tr>\n",
       "  </thead>\n",
       "  <tbody>\n",
       "    <tr>\n",
       "      <th>0</th>\n",
       "      <td>2016-01-01</td>\n",
       "      <td>0.11663</td>\n",
       "      <td>0.05590</td>\n",
       "      <td>0.15726</td>\n",
       "      <td>0.00736</td>\n",
       "    </tr>\n",
       "    <tr>\n",
       "      <th>1</th>\n",
       "      <td>2016-01-02</td>\n",
       "      <td>0.13372</td>\n",
       "      <td>0.17135</td>\n",
       "      <td>0.20826</td>\n",
       "      <td>0.00890</td>\n",
       "    </tr>\n",
       "    <tr>\n",
       "      <th>2</th>\n",
       "      <td>2016-01-03</td>\n",
       "      <td>0.14917</td>\n",
       "      <td>0.22317</td>\n",
       "      <td>0.19326</td>\n",
       "      <td>0.00845</td>\n",
       "    </tr>\n",
       "    <tr>\n",
       "      <th>3</th>\n",
       "      <td>2016-01-04</td>\n",
       "      <td>0.17463</td>\n",
       "      <td>0.18626</td>\n",
       "      <td>0.29008</td>\n",
       "      <td>0.01145</td>\n",
       "    </tr>\n",
       "    <tr>\n",
       "      <th>4</th>\n",
       "      <td>2016-01-05</td>\n",
       "      <td>0.17226</td>\n",
       "      <td>0.15072</td>\n",
       "      <td>0.24562</td>\n",
       "      <td>0.01381</td>\n",
       "    </tr>\n",
       "  </tbody>\n",
       "</table>\n",
       "</div>"
      ],
      "text/plain": [
       "         date     cold      flu  pneumonia  coronavirus\n",
       "0  2016-01-01  0.11663  0.05590    0.15726      0.00736\n",
       "1  2016-01-02  0.13372  0.17135    0.20826      0.00890\n",
       "2  2016-01-03  0.14917  0.22317    0.19326      0.00845\n",
       "3  2016-01-04  0.17463  0.18626    0.29008      0.01145\n",
       "4  2016-01-05  0.17226  0.15072    0.24562      0.01381"
      ]
     },
     "execution_count": 512,
     "metadata": {},
     "output_type": "execute_result"
    }
   ],
   "source": [
    "search_csv=pd.read_csv('C:/Users/castl/Desktop/데이터 사이언스/SearchTrend.csv')\n",
    "search_csv.head(5)"
   ]
  },
  {
   "cell_type": "code",
   "execution_count": 508,
   "metadata": {},
   "outputs": [
    {
     "name": "stdout",
     "output_type": "stream",
     "text": [
      "<class 'pandas.core.frame.DataFrame'>\n",
      "RangeIndex: 1642 entries, 0 to 1641\n",
      "Data columns (total 5 columns):\n",
      " #   Column       Non-Null Count  Dtype  \n",
      "---  ------       --------------  -----  \n",
      " 0   date         1642 non-null   object \n",
      " 1   cold         1642 non-null   float64\n",
      " 2   flu          1642 non-null   float64\n",
      " 3   pneumonia    1642 non-null   float64\n",
      " 4   coronavirus  1642 non-null   float64\n",
      "dtypes: float64(4), object(1)\n",
      "memory usage: 64.3+ KB\n"
     ]
    }
   ],
   "source": [
    "search_csv.info()"
   ]
  },
  {
   "cell_type": "markdown",
   "metadata": {},
   "source": [
    "- Q34: How many topics related to respiratory diseases were included in this data?: 4"
   ]
  },
  {
   "cell_type": "code",
   "execution_count": 514,
   "metadata": {},
   "outputs": [],
   "source": [
    "search_csv['date']=pd.to_datetime(search_csv['date'])"
   ]
  },
  {
   "cell_type": "code",
   "execution_count": 515,
   "metadata": {},
   "outputs": [
    {
     "name": "stdout",
     "output_type": "stream",
     "text": [
      "<class 'pandas.core.frame.DataFrame'>\n",
      "RangeIndex: 1642 entries, 0 to 1641\n",
      "Data columns (total 5 columns):\n",
      " #   Column       Non-Null Count  Dtype         \n",
      "---  ------       --------------  -----         \n",
      " 0   date         1642 non-null   datetime64[ns]\n",
      " 1   cold         1642 non-null   float64       \n",
      " 2   flu          1642 non-null   float64       \n",
      " 3   pneumonia    1642 non-null   float64       \n",
      " 4   coronavirus  1642 non-null   float64       \n",
      "dtypes: datetime64[ns](1), float64(4)\n",
      "memory usage: 64.3 KB\n"
     ]
    }
   ],
   "source": [
    "search_csv.info()"
   ]
  },
  {
   "cell_type": "code",
   "execution_count": 516,
   "metadata": {},
   "outputs": [
    {
     "data": {
      "text/plain": [
       "Timedelta('1641 days 00:00:00')"
      ]
     },
     "execution_count": 516,
     "metadata": {},
     "output_type": "execute_result"
    }
   ],
   "source": [
    "search_csv['date'].max()-search_csv['date'].min()"
   ]
  },
  {
   "cell_type": "markdown",
   "metadata": {},
   "source": [
    "- Q35: How many days were included from the start to the end of the time series?: 1641"
   ]
  },
  {
   "cell_type": "code",
   "execution_count": 521,
   "metadata": {},
   "outputs": [
    {
     "data": {
      "text/html": [
       "<div>\n",
       "<style scoped>\n",
       "    .dataframe tbody tr th:only-of-type {\n",
       "        vertical-align: middle;\n",
       "    }\n",
       "\n",
       "    .dataframe tbody tr th {\n",
       "        vertical-align: top;\n",
       "    }\n",
       "\n",
       "    .dataframe thead th {\n",
       "        text-align: right;\n",
       "    }\n",
       "</style>\n",
       "<table border=\"1\" class=\"dataframe\">\n",
       "  <thead>\n",
       "    <tr style=\"text-align: right;\">\n",
       "      <th></th>\n",
       "      <th>date</th>\n",
       "      <th>cold</th>\n",
       "      <th>flu</th>\n",
       "      <th>pneumonia</th>\n",
       "      <th>coronavirus</th>\n",
       "    </tr>\n",
       "  </thead>\n",
       "  <tbody>\n",
       "    <tr>\n",
       "      <th>1483</th>\n",
       "      <td>2020-01-23</td>\n",
       "      <td>0.30308</td>\n",
       "      <td>0.55625</td>\n",
       "      <td>3.18035</td>\n",
       "      <td>100.0</td>\n",
       "    </tr>\n",
       "  </tbody>\n",
       "</table>\n",
       "</div>"
      ],
      "text/plain": [
       "           date     cold      flu  pneumonia  coronavirus\n",
       "1483 2020-01-23  0.30308  0.55625    3.18035        100.0"
      ]
     },
     "execution_count": 521,
     "metadata": {},
     "output_type": "execute_result"
    }
   ],
   "source": [
    "search_csv[search_csv['coronavirus']==100]"
   ]
  },
  {
   "cell_type": "markdown",
   "metadata": {},
   "source": [
    "- Q36: How many days after the first case in Korea did the search trend for coronavirus reached 100% interest?: 최초 확진자는 2020-01-23에 한국에서 발생했으므로 확진 당일 바로 100% 검색트랜드에 오름, 1"
   ]
  },
  {
   "cell_type": "markdown",
   "metadata": {},
   "source": [
    "# Task 8: Test"
   ]
  },
  {
   "cell_type": "code",
   "execution_count": 522,
   "metadata": {},
   "outputs": [
    {
     "data": {
      "text/html": [
       "<div>\n",
       "<style scoped>\n",
       "    .dataframe tbody tr th:only-of-type {\n",
       "        vertical-align: middle;\n",
       "    }\n",
       "\n",
       "    .dataframe tbody tr th {\n",
       "        vertical-align: top;\n",
       "    }\n",
       "\n",
       "    .dataframe thead th {\n",
       "        text-align: right;\n",
       "    }\n",
       "</style>\n",
       "<table border=\"1\" class=\"dataframe\">\n",
       "  <thead>\n",
       "    <tr style=\"text-align: right;\">\n",
       "      <th></th>\n",
       "      <th>date</th>\n",
       "      <th>time</th>\n",
       "      <th>test</th>\n",
       "      <th>negative</th>\n",
       "      <th>confirmed</th>\n",
       "      <th>released</th>\n",
       "      <th>deceased</th>\n",
       "    </tr>\n",
       "  </thead>\n",
       "  <tbody>\n",
       "    <tr>\n",
       "      <th>0</th>\n",
       "      <td>2020-01-20</td>\n",
       "      <td>16</td>\n",
       "      <td>1</td>\n",
       "      <td>0</td>\n",
       "      <td>1</td>\n",
       "      <td>0</td>\n",
       "      <td>0</td>\n",
       "    </tr>\n",
       "    <tr>\n",
       "      <th>1</th>\n",
       "      <td>2020-01-21</td>\n",
       "      <td>16</td>\n",
       "      <td>1</td>\n",
       "      <td>0</td>\n",
       "      <td>1</td>\n",
       "      <td>0</td>\n",
       "      <td>0</td>\n",
       "    </tr>\n",
       "    <tr>\n",
       "      <th>2</th>\n",
       "      <td>2020-01-22</td>\n",
       "      <td>16</td>\n",
       "      <td>4</td>\n",
       "      <td>3</td>\n",
       "      <td>1</td>\n",
       "      <td>0</td>\n",
       "      <td>0</td>\n",
       "    </tr>\n",
       "    <tr>\n",
       "      <th>3</th>\n",
       "      <td>2020-01-23</td>\n",
       "      <td>16</td>\n",
       "      <td>22</td>\n",
       "      <td>21</td>\n",
       "      <td>1</td>\n",
       "      <td>0</td>\n",
       "      <td>0</td>\n",
       "    </tr>\n",
       "    <tr>\n",
       "      <th>4</th>\n",
       "      <td>2020-01-24</td>\n",
       "      <td>16</td>\n",
       "      <td>27</td>\n",
       "      <td>25</td>\n",
       "      <td>2</td>\n",
       "      <td>0</td>\n",
       "      <td>0</td>\n",
       "    </tr>\n",
       "  </tbody>\n",
       "</table>\n",
       "</div>"
      ],
      "text/plain": [
       "         date  time  test  negative  confirmed  released  deceased\n",
       "0  2020-01-20    16     1         0          1         0         0\n",
       "1  2020-01-21    16     1         0          1         0         0\n",
       "2  2020-01-22    16     4         3          1         0         0\n",
       "3  2020-01-23    16    22        21          1         0         0\n",
       "4  2020-01-24    16    27        25          2         0         0"
      ]
     },
     "execution_count": 522,
     "metadata": {},
     "output_type": "execute_result"
    }
   ],
   "source": [
    "time_csv=pd.read_csv('C:/Users/castl/Desktop/데이터 사이언스/TIme.csv')\n",
    "time_csv.head(5)"
   ]
  },
  {
   "cell_type": "code",
   "execution_count": 523,
   "metadata": {},
   "outputs": [
    {
     "name": "stdout",
     "output_type": "stream",
     "text": [
      "<class 'pandas.core.frame.DataFrame'>\n",
      "RangeIndex: 163 entries, 0 to 162\n",
      "Data columns (total 7 columns):\n",
      " #   Column     Non-Null Count  Dtype \n",
      "---  ------     --------------  ----- \n",
      " 0   date       163 non-null    object\n",
      " 1   time       163 non-null    int64 \n",
      " 2   test       163 non-null    int64 \n",
      " 3   negative   163 non-null    int64 \n",
      " 4   confirmed  163 non-null    int64 \n",
      " 5   released   163 non-null    int64 \n",
      " 6   deceased   163 non-null    int64 \n",
      "dtypes: int64(6), object(1)\n",
      "memory usage: 9.0+ KB\n"
     ]
    }
   ],
   "source": [
    "time_csv.info()"
   ]
  },
  {
   "cell_type": "code",
   "execution_count": 524,
   "metadata": {},
   "outputs": [
    {
     "data": {
      "text/plain": [
       "1273766"
      ]
     },
     "execution_count": 524,
     "metadata": {},
     "output_type": "execute_result"
    }
   ],
   "source": [
    "time_csv['test'].max()"
   ]
  },
  {
   "cell_type": "markdown",
   "metadata": {},
   "source": [
    "- Q37: What is the total number of tests conducted by the end of June?: 1273766"
   ]
  },
  {
   "cell_type": "code",
   "execution_count": 527,
   "metadata": {},
   "outputs": [],
   "source": [
    "time_csv['date']=pd.to_datetime(time_csv['date'])"
   ]
  },
  {
   "cell_type": "code",
   "execution_count": 528,
   "metadata": {},
   "outputs": [
    {
     "data": {
      "text/plain": [
       "162    0.97\n",
       "dtype: float64"
      ]
     },
     "execution_count": 528,
     "metadata": {},
     "output_type": "execute_result"
    }
   ],
   "source": [
    "n_num=time_csv[time_csv['date']=='2020-06-30']['negative']\n",
    "t_num=time_csv[time_csv['date']=='2020-06-30']['test']\n",
    "round(n_num/t_num,2)"
   ]
  },
  {
   "cell_type": "markdown",
   "metadata": {},
   "source": [
    "- Q38: What percentage of the tests resulted in negative by the end of June? (round to the nearest hundredths): 97"
   ]
  },
  {
   "cell_type": "code",
   "execution_count": 529,
   "metadata": {},
   "outputs": [
    {
     "data": {
      "text/plain": [
       "162    282\n",
       "Name: deceased, dtype: int64"
      ]
     },
     "execution_count": 529,
     "metadata": {},
     "output_type": "execute_result"
    }
   ],
   "source": [
    "time_csv[time_csv['date']=='2020-06-30']['deceased']"
   ]
  },
  {
   "cell_type": "markdown",
   "metadata": {},
   "source": [
    "- Q39: How many were deceasedcases by the end of June?: 282"
   ]
  },
  {
   "cell_type": "code",
   "execution_count": 530,
   "metadata": {},
   "outputs": [
    {
     "data": {
      "text/plain": [
       "162    11537\n",
       "Name: released, dtype: int64"
      ]
     },
     "execution_count": 530,
     "metadata": {},
     "output_type": "execute_result"
    }
   ],
   "source": [
    "time_csv[time_csv['date']=='2020-06-30']['released']"
   ]
  },
  {
   "cell_type": "markdown",
   "metadata": {},
   "source": [
    "- Q40: How many were released cases by the end of June?: 11537"
   ]
  },
  {
   "cell_type": "markdown",
   "metadata": {},
   "source": [
    "# 과제 진행 과정\n",
    "\n",
    "### csv파일 데이터 확인\n",
    "- read_csv를 사용하여 csv파일을 데이터프레임 형태로 읽음\n",
    "- info()를 사용하여 column 이름과 index 수,각각의 column의 null값 존재 여부를 확인\n",
    "- 더 자세한 수 의 null값을 확인하기 위해 isna()사용 하여 각각의 column의 null값 확인\n",
    "- head(5)를 사용하여 첫 5개 행을 갖고와 어떤 형태로 column에 대해 사용되었는지 확인\n",
    "- 확인할 column에 대해 unique()를 사용하여 array 형태로 서로다른 어떤 값을 갖고 있는지 확인\n",
    "- unique()에 len을 사용하여 column의 서로다른 값의 갯수 확인\n",
    "- sum()을 사용하여 숫자형 데이터의 합을 구함\n",
    "- max()를 사용하여 숫자형 데이터의 최대값을 구함\n",
    "\n",
    "### 날짜형 데이터\n",
    "- 날짜형 데이터로 변환하기 위해 to_datetime()사용\n",
    "- '데이터프레임 이름'[column 이름']=pd.to_datetime('데이터프레임 이름'['column 이름'])을 사용하여 변환된 날짜형 데이터를 '데이터프레임 이름'[column 이름']에 저장\n",
    "- 데이터 기간을 알기 위해 '데이터프레임 이름'[column 이름']max()와 '데이터프레임 이름'[column 이름'].min()의 차를 이용하여 구함\n",
    "\n",
    "### 특정조건의 데이터 찾기\n",
    "- 특정 조건의 데이터을 찾기 위해서 '데이터프레임 이름'['찾는 컬럼']=='컬럼의 특정조건' 형태 사용 (boolean으로 나옴)\n",
    "- DataFrame으로 찾기 위해 '데이터 프레임이름'['데이터프레임 이름'['찾는 컬럼']=='컬럼의 특정조건'] 사용\n",
    "- len을 사용하여 특정조건을 갖는 데이터 갯수 확인\n",
    "\n",
    "### NULL 값 처리\n",
    "- '데이터프레임 이름']['column명'].unique()를 사용하여 column의 서로다른 값 확인\n",
    "- NULL 값이 평균,최대값에 영향을 주지 않게 fillna('nan값을 변경할 값',inplace=True)를 사용하여 변경 (0으로 변경함)\n",
    "- NULL값이 아닌 잘못 저장된 값을 replace('원래값','변경할값')을 사용하여 변경 (0으로 변경함)\n",
    "- dropna(axis='행 버리기:0, 열 버리기:1',how='어떤 값이든 NaN이 있으면 버리기:any, 모든 값이 NAN이면 버리기:all')을 사용하여 NULL 데이터 처리\n",
    "\n",
    "### 데이터 변형\n",
    "- round()를 사용하여 숫자형 자료를 어떤 자리에서 반올림 할지 정함\n",
    "- '데이터프레임 이름'['column 이름']='데이터프레임 이름'['column 이름'].astype('변형할 데이터 타입')을 사용하여 해당 column의 데이터 타입을 변경하여 저장\n",
    "\n",
    "### 그래프 그리기\n",
    "- matplotlib.pyplot을 사용\n",
    "- plt.plot(x축에 넣을 column,y축에 넣을 column)을 하여 그래프 그림\n",
    "- plt.show()를 통해 시각화\n",
    "\n",
    "\n",
    "# 종합의견\n",
    "과제를 진행함에 있어 그래프를 그리거나 info()를 사용하여 대략적으로 데이터를 분석하는 것이 아니라, 다양한 함수를 사용하여 구체적이고 정확한 데이터를 찾아내려고 노력했습니다."
   ]
  },
  {
   "cell_type": "code",
   "execution_count": null,
   "metadata": {},
   "outputs": [],
   "source": []
  }
 ],
 "metadata": {
  "kernelspec": {
   "display_name": "Python 3",
   "language": "python",
   "name": "python3"
  },
  "language_info": {
   "codemirror_mode": {
    "name": "ipython",
    "version": 3
   },
   "file_extension": ".py",
   "mimetype": "text/x-python",
   "name": "python",
   "nbconvert_exporter": "python",
   "pygments_lexer": "ipython3",
   "version": "3.7.7"
  }
 },
 "nbformat": 4,
 "nbformat_minor": 4
}
